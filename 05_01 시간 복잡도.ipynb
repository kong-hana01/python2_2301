{
 "cells": [
  {
   "cell_type": "markdown",
   "id": "18c6a143",
   "metadata": {},
   "source": [
    "### 시간 복잡도\n",
    "프로그램의 성능은 시간 복잡도(처리 속도)와 공간 복잡도(공간)를 가지고 판단합니다.<br>\n",
    "메모리의 가격이 점차 싸지고 있기에 공간복잡도보단 시간복잡도가 상대적으로 더 중요합니다.<br>\n",
    "시간복잡도는 자료구조와 알고리즘의 조합으로 결정되는데, 이때 단위 연산(문제 해결을 위한 주요 동작)의 횟수를 통해 이를 파악합니다.<br>\n",
    "시간복잡도를 정량적으로 표현하는데 가장 많이 사용하는 지표는 빅오(Big-O) 표기법입니다."
   ]
  },
  {
   "cell_type": "code",
   "execution_count": 4,
   "id": "2dd7639b",
   "metadata": {},
   "outputs": [],
   "source": [
    "import time\n",
    "from datetime import timedelta\n",
    "\n",
    "def func1(n):\n",
    "    # 값을 0부터 n-1까지 누적해서 더하는 함수\n",
    "    total = 0\n",
    "    for i in range(n):\n",
    "        total += i # 단위 연산: 더하기\n",
    "    return total\n"
   ]
  },
  {
   "cell_type": "code",
   "execution_count": 5,
   "id": "92d9114c",
   "metadata": {},
   "outputs": [],
   "source": [
    "def check_time(func, n, title = \"\"):\n",
    "    start = time.time()\n",
    "    func(n)\n",
    "    end = time.time()\n",
    "    print(f'{title}: n = {n}, 경과 시간 = {str(timedelta(seconds = end - start))}')"
   ]
  },
  {
   "cell_type": "code",
   "execution_count": 8,
   "id": "61596cf3",
   "metadata": {},
   "outputs": [
    {
     "name": "stdout",
     "output_type": "stream",
     "text": [
      "func1: n = 100000000, 경과 시간 = 0:00:02.976670\n"
     ]
    }
   ],
   "source": [
    "check_time(func1, 100000000, \"func1\")"
   ]
  },
  {
   "cell_type": "code",
   "execution_count": 9,
   "id": "cd53ae7a",
   "metadata": {},
   "outputs": [],
   "source": [
    "def test(func, size, title):\n",
    "    for i in range(5):\n",
    "        check_time(func, size, title)\n",
    "        size *= 10"
   ]
  },
  {
   "cell_type": "code",
   "execution_count": 10,
   "id": "796e8b18",
   "metadata": {},
   "outputs": [
    {
     "name": "stdout",
     "output_type": "stream",
     "text": [
      "func1: n = 10000, 경과 시간 = 0:00:00\n",
      "func1: n = 100000, 경과 시간 = 0:00:00.002992\n",
      "func1: n = 1000000, 경과 시간 = 0:00:00.030921\n",
      "func1: n = 10000000, 경과 시간 = 0:00:00.293424\n",
      "func1: n = 100000000, 경과 시간 = 0:00:03.058359\n"
     ]
    }
   ],
   "source": [
    "test(func1, 10000, \"func1\")"
   ]
  },
  {
   "cell_type": "markdown",
   "id": "52b8418b",
   "metadata": {},
   "source": [
    "### Big-O 표기법\n",
    "입력되는 데이터 n에 비례해서 시간 복잡도가 증가\n",
    "\n",
    "![big o](https://miro.medium.com/max/1400/1*jiVqYhDzvODfVq6RH0DB1g.png)\n",
    "- x 축은 '입력 데이터 량'\n",
    "- y 축은 '소요시간'\n",
    "<br>\n",
    "- O(1): func0\n",
    "- O(n): func1"
   ]
  },
  {
   "cell_type": "code",
   "execution_count": 12,
   "id": "6e7c7521",
   "metadata": {},
   "outputs": [
    {
     "name": "stdout",
     "output_type": "stream",
     "text": [
      "func0: n = 1000000, 경과 시간 = 0:00:00\n",
      "func0: n = 10000000, 경과 시간 = 0:00:00\n",
      "func0: n = 100000000, 경과 시간 = 0:00:00\n",
      "func0: n = 1000000000, 경과 시간 = 0:00:00\n",
      "func0: n = 10000000000, 경과 시간 = 0:00:00\n"
     ]
    }
   ],
   "source": [
    "def func0(n):\n",
    "    return n + n # 단위연산: 더하기\n",
    "\n",
    "test(func0, 1000000, \"func0\")"
   ]
  },
  {
   "cell_type": "code",
   "execution_count": 13,
   "id": "0ff7f1fa",
   "metadata": {},
   "outputs": [],
   "source": [
    "def func2(n): # O(n**2)\n",
    "    total = 0\n",
    "    for i in range(n):\n",
    "        for j in range(n):\n",
    "            total += i*j # 단위 연산: i * j\n",
    "    return total"
   ]
  },
  {
   "cell_type": "code",
   "execution_count": 16,
   "id": "9a25076c",
   "metadata": {},
   "outputs": [
    {
     "name": "stdout",
     "output_type": "stream",
     "text": [
      "func2: n = 1, 경과 시간 = 0:00:00\n",
      "func2: n = 10, 경과 시간 = 0:00:00\n",
      "func2: n = 100, 경과 시간 = 0:00:00\n",
      "func2: n = 1000, 경과 시간 = 0:00:00.044909\n",
      "func2: n = 10000, 경과 시간 = 0:00:04.370130\n"
     ]
    }
   ],
   "source": [
    "test(func2, 1, \"func2\")"
   ]
  },
  {
   "cell_type": "code",
   "execution_count": 17,
   "id": "a394b724",
   "metadata": {},
   "outputs": [],
   "source": [
    "def func3(n):\n",
    "    # O(n**3)\n",
    "    total = 0\n",
    "    for i in range(n):\n",
    "        for j in range(n):\n",
    "            total += i * j\n",
    "            for k in range(n):\n",
    "                total += i * j * k # 단위연산: 곱하기 -> 2 x n**3, 더하기 -> n**3\n",
    "    return total"
   ]
  },
  {
   "cell_type": "code",
   "execution_count": null,
   "id": "f1f295a9",
   "metadata": {},
   "outputs": [
    {
     "name": "stdout",
     "output_type": "stream",
     "text": [
      "func3: n = 1, 경과 시간 = 0:00:00\n",
      "func3: n = 10, 경과 시간 = 0:00:00\n",
      "func3: n = 100, 경과 시간 = 0:00:00.056897\n",
      "func3: n = 1000, 경과 시간 = 0:00:59.305675\n"
     ]
    }
   ],
   "source": [
    "test(func3, 1, \"func3\")"
   ]
  },
  {
   "cell_type": "markdown",
   "id": "6723a45b",
   "metadata": {},
   "source": [
    "### Big-O 표기법의 특징\n",
    "- 최고차항의 계수는 생략합니다.\n",
    "- 최고차항으로 시간 복잡도를 표기합니다."
   ]
  }
 ],
 "metadata": {
  "kernelspec": {
   "display_name": "Python 3 (ipykernel)",
   "language": "python",
   "name": "python3"
  },
  "language_info": {
   "codemirror_mode": {
    "name": "ipython",
    "version": 3
   },
   "file_extension": ".py",
   "mimetype": "text/x-python",
   "name": "python",
   "nbconvert_exporter": "python",
   "pygments_lexer": "ipython3",
   "version": "3.9.13"
  }
 },
 "nbformat": 4,
 "nbformat_minor": 5
}
