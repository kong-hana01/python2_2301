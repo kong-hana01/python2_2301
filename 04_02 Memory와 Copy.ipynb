{
 "cells": [
  {
   "cell_type": "code",
   "execution_count": null,
   "metadata": {
    "id": "H6hYXwEz-hVt"
   },
   "outputs": [],
   "source": [
    "a = 10"
   ]
  },
  {
   "cell_type": "code",
   "execution_count": null,
   "metadata": {
    "id": "BWaUysDi-hVy"
   },
   "outputs": [],
   "source": [
    "b = a  # a를 b에 대입 (assignment)"
   ]
  },
  {
   "cell_type": "code",
   "execution_count": null,
   "metadata": {
    "id": "2ojZUgpK-hVy",
    "outputId": "cc7b16d0-5877-4ab9-ed13-e563d127f486"
   },
   "outputs": [
    {
     "data": {
      "text/plain": [
       "(10, 10)"
      ]
     },
     "execution_count": 10,
     "metadata": {},
     "output_type": "execute_result"
    }
   ],
   "source": [
    "a, b"
   ]
  },
  {
   "cell_type": "code",
   "execution_count": null,
   "metadata": {
    "id": "5Jrh8apz-hVz"
   },
   "outputs": [],
   "source": [
    "a += 1"
   ]
  },
  {
   "cell_type": "code",
   "execution_count": null,
   "metadata": {
    "id": "5rClgc8j-hV0",
    "outputId": "cbd00330-57c8-41b8-f291-785e57b3b01d"
   },
   "outputs": [
    {
     "data": {
      "text/plain": [
       "(11, 10)"
      ]
     },
     "execution_count": 12,
     "metadata": {},
     "output_type": "execute_result"
    }
   ],
   "source": [
    "a, b   # a 값을 증가해도 b 값은 변화 없다."
   ]
  },
  {
   "cell_type": "markdown",
   "metadata": {
    "id": "tVFnhQGa-hV0"
   },
   "source": [
    "---"
   ]
  },
  {
   "cell_type": "code",
   "execution_count": null,
   "metadata": {
    "id": "zDWEVcuR-hV2"
   },
   "outputs": [],
   "source": [
    "A = [10, 20, 30]"
   ]
  },
  {
   "cell_type": "code",
   "execution_count": null,
   "metadata": {
    "id": "8Y0ZqY-D-hV3"
   },
   "outputs": [],
   "source": [
    "B = A    # B에 A를 대입 (assignment)"
   ]
  },
  {
   "cell_type": "code",
   "execution_count": null,
   "metadata": {
    "id": "cxEQw3IL-hV4",
    "outputId": "7ce2afe4-9581-410e-f90e-978233e02eab"
   },
   "outputs": [
    {
     "data": {
      "text/plain": [
       "([10, 20, 30], [10, 20, 30])"
      ]
     },
     "execution_count": 15,
     "metadata": {},
     "output_type": "execute_result"
    }
   ],
   "source": [
    "A, B"
   ]
  },
  {
   "cell_type": "code",
   "execution_count": null,
   "metadata": {
    "id": "u1FtX5CO-hV5"
   },
   "outputs": [],
   "source": [
    "A[0] += 1"
   ]
  },
  {
   "cell_type": "code",
   "execution_count": null,
   "metadata": {
    "id": "U3IhLScf-hV5",
    "outputId": "33f4af50-e34c-44dc-db88-f3538a7d6ad5"
   },
   "outputs": [
    {
     "data": {
      "text/plain": [
       "([11, 20, 30], [11, 20, 30])"
      ]
     },
     "execution_count": 18,
     "metadata": {},
     "output_type": "execute_result"
    }
   ],
   "source": [
    "A, B  # A를 변경했는데 B값도 변경 되었다!?"
   ]
  },
  {
   "cell_type": "markdown",
   "metadata": {
    "id": "HuyQ5IS9-hV6"
   },
   "source": [
    "---"
   ]
  },
  {
   "cell_type": "code",
   "execution_count": null,
   "metadata": {
    "id": "hNRulln6-hV7"
   },
   "outputs": [],
   "source": [
    "class MyClass:\n",
    "    def __init__(self, value):\n",
    "        self.value = value\n",
    "        \n",
    "    def __repr__(self):\n",
    "        return str(self.value)"
   ]
  },
  {
   "cell_type": "code",
   "execution_count": null,
   "metadata": {
    "id": "dewNQz3p-hV7",
    "outputId": "d9f26fb6-509e-4ae8-a412-bc540fd09efc"
   },
   "outputs": [
    {
     "data": {
      "text/plain": [
       "100"
      ]
     },
     "execution_count": 24,
     "metadata": {},
     "output_type": "execute_result"
    }
   ],
   "source": [
    "m1 = MyClass(100)\n",
    "m1.value\n",
    "m1"
   ]
  },
  {
   "cell_type": "code",
   "execution_count": null,
   "metadata": {
    "id": "zFhg47ot-hV8"
   },
   "outputs": [],
   "source": [
    "m2 = m1   # m2에 m1을 대입(assignment)"
   ]
  },
  {
   "cell_type": "code",
   "execution_count": null,
   "metadata": {
    "id": "pe_LiCV_-hV8",
    "outputId": "896fc120-751d-4dee-98cc-7aad8616f470"
   },
   "outputs": [
    {
     "data": {
      "text/plain": [
       "(100, 100)"
      ]
     },
     "execution_count": 28,
     "metadata": {},
     "output_type": "execute_result"
    }
   ],
   "source": [
    "m1, m2"
   ]
  },
  {
   "cell_type": "code",
   "execution_count": null,
   "metadata": {
    "id": "Uzh76C1S-hV9"
   },
   "outputs": [],
   "source": [
    "m1.value += 10"
   ]
  },
  {
   "cell_type": "code",
   "execution_count": null,
   "metadata": {
    "id": "4YN3X9Qo-hV9",
    "outputId": "1a5ed1df-a9fb-4d05-fb8b-59f72c04cb44"
   },
   "outputs": [
    {
     "data": {
      "text/plain": [
       "(110, 110)"
      ]
     },
     "execution_count": 31,
     "metadata": {},
     "output_type": "execute_result"
    }
   ],
   "source": [
    "m1, m2    # m1만 증가시켰는데 m2도 증가되었다!?"
   ]
  },
  {
   "cell_type": "markdown",
   "metadata": {
    "id": "1ZrGHxwC-hV9"
   },
   "source": [
    "# Assignmnet vs Shallow Copy vs Deep copy\n",
    "대입연산 vs 얕은 복사 vs 깊은 복사"
   ]
  },
  {
   "cell_type": "markdown",
   "metadata": {
    "id": "gpLQodpH-hV-"
   },
   "source": [
    "# 대입연산 (assignment)\n",
    "대입연산과 '얕은 복사'는 다르다."
   ]
  },
  {
   "cell_type": "code",
   "execution_count": null,
   "metadata": {
    "id": "bplcU_hO-hV-"
   },
   "outputs": [],
   "source": [
    "a = 20"
   ]
  },
  {
   "cell_type": "code",
   "execution_count": null,
   "metadata": {
    "id": "cHigREWr-hV-"
   },
   "outputs": [],
   "source": [
    "b = a"
   ]
  },
  {
   "cell_type": "code",
   "execution_count": null,
   "metadata": {
    "id": "3z9r-fvv-hV-",
    "outputId": "c4667dea-1e6b-40aa-ef79-abd1f3df5705"
   },
   "outputs": [
    {
     "data": {
      "text/plain": [
       "True"
      ]
     },
     "execution_count": 35,
     "metadata": {},
     "output_type": "execute_result"
    }
   ],
   "source": [
    "a == b    # == : 각 멤버들의 '값'을 일일히 비교"
   ]
  },
  {
   "cell_type": "markdown",
   "metadata": {
    "id": "5bsO7rSC-hV_"
   },
   "source": [
    "### is 연산자"
   ]
  },
  {
   "cell_type": "code",
   "execution_count": null,
   "metadata": {
    "id": "6achzuHk-hV_",
    "outputId": "55ee45a7-9ad3-4d22-80b3-d66ec13f0b8b"
   },
   "outputs": [
    {
     "data": {
      "text/plain": [
       "True"
      ]
     },
     "execution_count": 44,
     "metadata": {},
     "output_type": "execute_result"
    }
   ],
   "source": [
    "a is b    # is : 동일 '객체'인지 비교"
   ]
  },
  {
   "cell_type": "code",
   "execution_count": null,
   "metadata": {
    "id": "PNTHEWJr-hWA",
    "outputId": "e0b9c8a8-b313-4c70-fe03-5268c064fd8d"
   },
   "outputs": [
    {
     "data": {
      "text/plain": [
       "(140736181609456, 140736181609456)"
      ]
     },
     "execution_count": 45,
     "metadata": {},
     "output_type": "execute_result"
    }
   ],
   "source": [
    "id(a), id(b)    # 주소값"
   ]
  },
  {
   "cell_type": "code",
   "execution_count": null,
   "metadata": {
    "id": "Y0vkxxFT-hWA"
   },
   "outputs": [],
   "source": [
    "a += 1"
   ]
  },
  {
   "cell_type": "code",
   "execution_count": null,
   "metadata": {
    "id": "HZjpOXLH-hWA",
    "outputId": "b91cd34a-3c6c-4efd-a57a-910b5c1c033d"
   },
   "outputs": [
    {
     "data": {
      "text/plain": [
       "(140736181609488, 140736181609456)"
      ]
     },
     "execution_count": 50,
     "metadata": {},
     "output_type": "execute_result"
    }
   ],
   "source": [
    "id(a), id(b)"
   ]
  },
  {
   "cell_type": "code",
   "execution_count": null,
   "metadata": {
    "id": "q6Nq3tBH-hWB",
    "outputId": "2c873637-2d80-49b2-cf7e-c815997d5925"
   },
   "outputs": [
    {
     "data": {
      "text/plain": [
       "False"
      ]
     },
     "execution_count": 51,
     "metadata": {},
     "output_type": "execute_result"
    }
   ],
   "source": [
    "a is b"
   ]
  },
  {
   "cell_type": "code",
   "execution_count": null,
   "metadata": {
    "id": "XG3QjF_B-hWB"
   },
   "outputs": [],
   "source": [
    "a = 21"
   ]
  },
  {
   "cell_type": "code",
   "execution_count": null,
   "metadata": {
    "id": "FvSSqC4X-hWB"
   },
   "outputs": [],
   "source": [
    "b = 21"
   ]
  },
  {
   "cell_type": "code",
   "execution_count": null,
   "metadata": {
    "id": "J4vKEoNS-hWB",
    "outputId": "e504aef6-1410-4f47-96b3-508b740e6066"
   },
   "outputs": [
    {
     "data": {
      "text/plain": [
       "(21, 21)"
      ]
     },
     "execution_count": 54,
     "metadata": {},
     "output_type": "execute_result"
    }
   ],
   "source": [
    "a, b"
   ]
  },
  {
   "cell_type": "code",
   "execution_count": null,
   "metadata": {
    "id": "3THgZbUp-hWB",
    "outputId": "7a28d1dc-3c3e-4b89-e502-a57b113b51fd"
   },
   "outputs": [
    {
     "data": {
      "text/plain": [
       "True"
      ]
     },
     "execution_count": 55,
     "metadata": {},
     "output_type": "execute_result"
    }
   ],
   "source": [
    "a == b"
   ]
  },
  {
   "cell_type": "code",
   "execution_count": null,
   "metadata": {
    "id": "Aw0b-hjE-hWC",
    "outputId": "ee0af6e8-7dff-441e-b7e7-9e3923496e1c"
   },
   "outputs": [
    {
     "data": {
      "text/plain": [
       "True"
      ]
     },
     "execution_count": 56,
     "metadata": {},
     "output_type": "execute_result"
    }
   ],
   "source": [
    "a is b"
   ]
  },
  {
   "cell_type": "markdown",
   "metadata": {
    "id": "5qRI-yyy-hWC"
   },
   "source": [
    "## 얕은 복사 (shallow copy)\n",
    "새로운 인스턴스를만들고 인스턴스의 '값'만 복사"
   ]
  },
  {
   "cell_type": "code",
   "execution_count": null,
   "metadata": {
    "id": "3gvYopbL-hWC"
   },
   "outputs": [],
   "source": [
    "# list 의 얕은복사 방법들\n",
    "\n",
    "# 방법1  copy() 함수 사용\n",
    "# 방법2  범위지정 [:]  사용\n",
    "# 방법3  list() 함수 사용\n",
    "# 방법4  copy.copy() 사용"
   ]
  },
  {
   "cell_type": "code",
   "execution_count": null,
   "metadata": {
    "id": "gYoUQf4r-hWC"
   },
   "outputs": [],
   "source": [
    "x = [10, 20, 30]\n",
    "y1 = x           # 대입\n",
    "y2 = x.copy()    # 얕은 복사"
   ]
  },
  {
   "cell_type": "code",
   "execution_count": null,
   "metadata": {
    "id": "4qGaXuKb-hWC",
    "outputId": "be9c763d-8cfc-4033-e7de-e5a80cb0241a"
   },
   "outputs": [
    {
     "data": {
      "text/plain": [
       "([10, 20, 30], [10, 20, 30], [10, 20, 30])"
      ]
     },
     "execution_count": 69,
     "metadata": {},
     "output_type": "execute_result"
    }
   ],
   "source": [
    "x, y1, y2"
   ]
  },
  {
   "cell_type": "code",
   "execution_count": null,
   "metadata": {
    "id": "HNh8IPyC-hWD",
    "outputId": "78caf4ec-d3ee-47c2-d3c5-a37c68333aef"
   },
   "outputs": [
    {
     "data": {
      "text/plain": [
       "True"
      ]
     },
     "execution_count": 70,
     "metadata": {},
     "output_type": "execute_result"
    }
   ],
   "source": [
    "x == y1 == y2"
   ]
  },
  {
   "cell_type": "code",
   "execution_count": null,
   "metadata": {
    "id": "sfmmgja7-hWD",
    "outputId": "cb77d59e-2564-44f5-d603-71f9cd92673c"
   },
   "outputs": [
    {
     "data": {
      "text/plain": [
       "(2409177753480, 2409177753480, 2409177752264)"
      ]
     },
     "execution_count": 71,
     "metadata": {},
     "output_type": "execute_result"
    }
   ],
   "source": [
    "id(x), id(y1), id(y2)"
   ]
  },
  {
   "cell_type": "code",
   "execution_count": null,
   "metadata": {
    "id": "SI447idh-hWD",
    "outputId": "55f2edd7-922c-4494-b3a7-69317411b962"
   },
   "outputs": [
    {
     "data": {
      "text/plain": [
       "(True, False, False)"
      ]
     },
     "execution_count": 76,
     "metadata": {},
     "output_type": "execute_result"
    }
   ],
   "source": [
    "x is y1, x is y2, y1 is y2 # copy를 하면 새로운 인스턴스를 만든다."
   ]
  },
  {
   "cell_type": "code",
   "execution_count": null,
   "metadata": {
    "id": "-UbsPGBN-hWD"
   },
   "outputs": [],
   "source": [
    "x[1] = 200"
   ]
  },
  {
   "cell_type": "code",
   "execution_count": null,
   "metadata": {
    "id": "LdpSBLIF-hWD",
    "outputId": "c550c05f-44c3-48fe-ebe5-36d8bde99e55"
   },
   "outputs": [
    {
     "data": {
      "text/plain": [
       "([10, 200, 30], [10, 200, 30], [10, 20, 30])"
      ]
     },
     "execution_count": 78,
     "metadata": {},
     "output_type": "execute_result"
    }
   ],
   "source": [
    "x, y1, y2"
   ]
  },
  {
   "cell_type": "markdown",
   "metadata": {
    "id": "X9U-hfNG-hWD"
   },
   "source": [
    "### 방법2[:] 사용"
   ]
  },
  {
   "cell_type": "code",
   "execution_count": null,
   "metadata": {
    "id": "TQ9GcHzq-hWE"
   },
   "outputs": [],
   "source": [
    "x = [10, 20, 30]\n",
    "y1 = x\n",
    "y2 = x[:]   # 얕은복사 발생(리스트에 한정해서 발생)"
   ]
  },
  {
   "cell_type": "code",
   "execution_count": null,
   "metadata": {
    "id": "YgpvgwnL-hWE",
    "outputId": "44be9355-f3dd-4f2c-8b60-df3daffd28b5"
   },
   "outputs": [
    {
     "data": {
      "text/plain": [
       "(True, False, False)"
      ]
     },
     "execution_count": 80,
     "metadata": {},
     "output_type": "execute_result"
    }
   ],
   "source": [
    "x is y1, x is y2, y1 is y2"
   ]
  },
  {
   "cell_type": "markdown",
   "metadata": {
    "id": "bi5hM4el-hWE"
   },
   "source": [
    "### 방법3 list() 사용"
   ]
  },
  {
   "cell_type": "code",
   "execution_count": null,
   "metadata": {
    "id": "ZjoHzSMM-hWE"
   },
   "outputs": [],
   "source": [
    "x = [10, 20, 30]\n",
    "y1 = x\n",
    "y2 = list(x)"
   ]
  },
  {
   "cell_type": "code",
   "execution_count": null,
   "metadata": {
    "id": "rd7GbSLW-hWE",
    "outputId": "9fe702fd-9468-4866-f065-3c8d356f5e6a"
   },
   "outputs": [
    {
     "data": {
      "text/plain": [
       "(True, False, False)"
      ]
     },
     "execution_count": 85,
     "metadata": {},
     "output_type": "execute_result"
    }
   ],
   "source": [
    "x is y1, x is y2, y1 is y2"
   ]
  },
  {
   "cell_type": "markdown",
   "metadata": {
    "id": "EyUNZ-Fu-hWF"
   },
   "source": [
    "### 방법4 copy.copy() 사용"
   ]
  },
  {
   "cell_type": "code",
   "execution_count": null,
   "metadata": {
    "id": "v3NyqzgD-hWF"
   },
   "outputs": [],
   "source": [
    "import copy\n",
    "\n",
    "x = [10, 20, 30]\n",
    "y1 = x\n",
    "y2 = copy.copy(x)   # 얕은 복사"
   ]
  },
  {
   "cell_type": "code",
   "execution_count": null,
   "metadata": {
    "id": "zVyuJ64C-hWF",
    "outputId": "6311d93a-7977-4903-bbe9-2346993fbc55"
   },
   "outputs": [
    {
     "data": {
      "text/plain": [
       "(True, False, False)"
      ]
     },
     "execution_count": 87,
     "metadata": {},
     "output_type": "execute_result"
    }
   ],
   "source": [
    "x is y1, x is y2, y1 is y2"
   ]
  },
  {
   "cell_type": "markdown",
   "metadata": {
    "id": "KjRgRThQ-hWF"
   },
   "source": [
    "##  얕은 복사의 한계"
   ]
  },
  {
   "cell_type": "code",
   "execution_count": null,
   "metadata": {
    "id": "sEU-rgpG-hWF"
   },
   "outputs": [],
   "source": [
    "x = [1, 2, [\"A\", \"B\", \"C\"]]"
   ]
  },
  {
   "cell_type": "code",
   "execution_count": null,
   "metadata": {
    "id": "MswPGfyP-hWF"
   },
   "outputs": [],
   "source": [
    "y = x.copy()   # 얕은 복사"
   ]
  },
  {
   "cell_type": "code",
   "execution_count": null,
   "metadata": {
    "id": "F--gz3II-hWG",
    "outputId": "d1a7dc20-dc5c-4bcb-c938-3a237f95e24f"
   },
   "outputs": [
    {
     "data": {
      "text/plain": [
       "([1, 2, ['A', 'B', 'C']], [1, 2, ['A', 'B', 'C']])"
      ]
     },
     "execution_count": 111,
     "metadata": {},
     "output_type": "execute_result"
    }
   ],
   "source": [
    "x , y"
   ]
  },
  {
   "cell_type": "code",
   "execution_count": null,
   "metadata": {
    "id": "CDAVCIaN-hWG",
    "outputId": "ca39a91e-66f3-4afd-99d4-9cb222d9a5c1"
   },
   "outputs": [
    {
     "data": {
      "text/plain": [
       "(True, False)"
      ]
     },
     "execution_count": 112,
     "metadata": {},
     "output_type": "execute_result"
    }
   ],
   "source": [
    "x == y, x is y     # == : 값이 같은지를 확인하는 것이기에 TRUE로 나옴 / is : 객체가 같은지를 확인(주소 값이 같은지를 확인)"
   ]
  },
  {
   "cell_type": "code",
   "execution_count": null,
   "metadata": {
    "id": "2Xga__hm-hWG",
    "outputId": "048ae17c-c99d-4ce1-e893-e008d92bed0b"
   },
   "outputs": [
    {
     "data": {
      "text/plain": [
       "True"
      ]
     },
     "execution_count": 113,
     "metadata": {},
     "output_type": "execute_result"
    }
   ],
   "source": [
    "x[2] is y[2]      # 리스트 안에 있는 리스트는 얕은 복사를 하더라도 리스트의 주소값이 복사가 됨"
   ]
  },
  {
   "cell_type": "code",
   "execution_count": null,
   "metadata": {
    "id": "djDkumdU-hWG"
   },
   "outputs": [],
   "source": [
    "x[0] = \"python\""
   ]
  },
  {
   "cell_type": "code",
   "execution_count": null,
   "metadata": {
    "id": "Re5hMsRJ-hWG",
    "outputId": "099b7a7e-018e-42d6-c0b2-335b85781339"
   },
   "outputs": [
    {
     "data": {
      "text/plain": [
       "(['python', 2, ['A', 'B', 'C']], [1, 2, ['A', 'B', 'C']])"
      ]
     },
     "execution_count": 98,
     "metadata": {},
     "output_type": "execute_result"
    }
   ],
   "source": [
    "x, y"
   ]
  },
  {
   "cell_type": "code",
   "execution_count": null,
   "metadata": {
    "id": "sVrp1K6m-hWH",
    "outputId": "f3c1b9b5-ba06-496d-d711-ee7f9677a22c"
   },
   "outputs": [
    {
     "data": {
      "text/plain": [
       "'C'"
      ]
     },
     "execution_count": 99,
     "metadata": {},
     "output_type": "execute_result"
    }
   ],
   "source": [
    "y[-1][-1]"
   ]
  },
  {
   "cell_type": "code",
   "execution_count": null,
   "metadata": {
    "id": "kyvNAKs9-hWH"
   },
   "outputs": [],
   "source": [
    "y[-1][-1] = 'F'"
   ]
  },
  {
   "cell_type": "code",
   "execution_count": null,
   "metadata": {
    "id": "gSrjBevg-hWH",
    "outputId": "9b1ec431-5254-454f-ba5a-e49c9762dcf6"
   },
   "outputs": [
    {
     "data": {
      "text/plain": [
       "(['python', 2, ['A', 'B', 'F']], [1, 2, ['A', 'B', 'F']])"
      ]
     },
     "execution_count": 101,
     "metadata": {},
     "output_type": "execute_result"
    }
   ],
   "source": [
    "x, y"
   ]
  },
  {
   "cell_type": "code",
   "execution_count": null,
   "metadata": {
    "id": "IU63_DnC-hWH"
   },
   "outputs": [],
   "source": []
  },
  {
   "cell_type": "markdown",
   "metadata": {
    "id": "PKWt6vgR-hWH"
   },
   "source": [
    "# 깊은 복사 (DeepCopy)"
   ]
  },
  {
   "cell_type": "code",
   "execution_count": null,
   "metadata": {
    "id": "pOPD1Yu_-hWH"
   },
   "outputs": [],
   "source": [
    "import copy"
   ]
  },
  {
   "cell_type": "code",
   "execution_count": null,
   "metadata": {
    "id": "Etxi0U1e-hWI"
   },
   "outputs": [],
   "source": [
    "x = [1, 2, [\"A\", \"B\", \"C\"]]\n",
    "y = copy.deepcopy(x)   # 깊은 복사 발생 (완전한 사본이라고 생각하자~)"
   ]
  },
  {
   "cell_type": "code",
   "execution_count": null,
   "metadata": {
    "id": "45qa3uTQ-hWI",
    "outputId": "1a87ae64-aedb-4e97-f46a-e0082b1145ae"
   },
   "outputs": [
    {
     "data": {
      "text/plain": [
       "(True, False)"
      ]
     },
     "execution_count": 116,
     "metadata": {},
     "output_type": "execute_result"
    }
   ],
   "source": [
    "x == y, x is y"
   ]
  },
  {
   "cell_type": "code",
   "execution_count": null,
   "metadata": {
    "id": "dOkkzpkm-hWI"
   },
   "outputs": [],
   "source": [
    "y[-1][-1] = \"F\""
   ]
  },
  {
   "cell_type": "code",
   "execution_count": null,
   "metadata": {
    "id": "fB6bS_ED-hWI",
    "outputId": "a52ee682-ccaf-4563-9255-3eebfe59aee7"
   },
   "outputs": [
    {
     "data": {
      "text/plain": [
       "([1, 2, ['A', 'B', 'C']], [1, 2, ['A', 'B', 'F']])"
      ]
     },
     "execution_count": 118,
     "metadata": {},
     "output_type": "execute_result"
    }
   ],
   "source": [
    "x, y"
   ]
  },
  {
   "cell_type": "markdown",
   "metadata": {
    "id": "Hk4VUlHk-hWI"
   },
   "source": [
    "##### 정리"
   ]
  },
  {
   "cell_type": "markdown",
   "metadata": {
    "id": "GM-rUlY8-hWI"
   },
   "source": [
    "![copy](https://miro.medium.com/max/1400/1*V22I5caA8NaY1m12DpRnfg.png)"
   ]
  },
  {
   "cell_type": "code",
   "execution_count": 5,
   "metadata": {
    "colab": {
     "base_uri": "https://localhost:8080/"
    },
    "executionInfo": {
     "elapsed": 267,
     "status": "ok",
     "timestamp": 1648481842829,
     "user": {
      "displayName": "‍최한빈[학생](경영대학 경영학과)",
      "photoUrl": "https://lh3.googleusercontent.com/a/default-user=s64",
      "userId": "06554604358941194570"
     },
     "user_tz": -540
    },
    "id": "oD7OMCvh-hWJ",
    "outputId": "fd5c3a00-9c1e-498f-8dd4-5884e9cf1c6e"
   },
   "outputs": [
    {
     "data": {
      "text/plain": [
       "416.6666666666667"
      ]
     },
     "execution_count": 5,
     "metadata": {},
     "output_type": "execute_result"
    }
   ],
   "source": [
    "1250/3"
   ]
  },
  {
   "cell_type": "code",
   "execution_count": null,
   "metadata": {
    "id": "SgYSq-QE-hWJ"
   },
   "outputs": [],
   "source": []
  },
  {
   "cell_type": "code",
   "execution_count": null,
   "metadata": {
    "id": "2YUkxJjf-hWJ"
   },
   "outputs": [],
   "source": []
  },
  {
   "cell_type": "code",
   "execution_count": null,
   "metadata": {
    "id": "Ykj_x75B-hWJ"
   },
   "outputs": [],
   "source": []
  }
 ],
 "metadata": {
  "colab": {
   "name": "06_01_ Pointer, Memory, Copy.ipynb",
   "provenance": []
  },
  "kernelspec": {
   "display_name": "Python 3 (ipykernel)",
   "language": "python",
   "name": "python3"
  },
  "language_info": {
   "codemirror_mode": {
    "name": "ipython",
    "version": 3
   },
   "file_extension": ".py",
   "mimetype": "text/x-python",
   "name": "python",
   "nbconvert_exporter": "python",
   "pygments_lexer": "ipython3",
   "version": "3.9.13"
  }
 },
 "nbformat": 4,
 "nbformat_minor": 1
}
