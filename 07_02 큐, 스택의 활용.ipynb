{
 "cells": [
  {
   "cell_type": "markdown",
   "id": "2817e04e",
   "metadata": {},
   "source": [
    "## 큐, 스택 활용\n",
    "https://www.acmicpc.net/problem/1158\n"
   ]
  },
  {
   "cell_type": "code",
   "execution_count": 2,
   "id": "d38aa9bd",
   "metadata": {},
   "outputs": [
    {
     "name": "stdout",
     "output_type": "stream",
     "text": [
      "7 3\n",
      "[3, 6, 2, 7, 5, 1, 4]\n"
     ]
    }
   ],
   "source": [
    "'''\n",
    "[1, 2, 3, 4, 5, 6, 7]\n",
    "[2, 3, 4, 5, 6, 7, 1]\n",
    "[3, 4, 5, 6, 7, 1, 2]\n",
    "[4, 5, 6, 7, 1, 2]\n",
    "'''\n",
    "from collections import deque\n",
    "n, k = map(int, input().split())\n",
    "queue = deque([])\n",
    "for i in range(1, n+1):\n",
    "    queue.append(i)\n",
    "    \n",
    "result = []\n",
    "for _ in range(n): # while queue: -> queue가 빌 때까지 반복\n",
    "    for i in range(k-1):\n",
    "        x = queue.popleft()\n",
    "        queue.append(x)\n",
    "    x = queue.popleft() # k번째 데이터\n",
    "    result.append(x)\n",
    "print(result)"
   ]
  },
  {
   "cell_type": "code",
   "execution_count": null,
   "id": "0abbb21b",
   "metadata": {},
   "outputs": [],
   "source": []
  },
  {
   "cell_type": "code",
   "execution_count": null,
   "id": "5649b9da",
   "metadata": {},
   "outputs": [],
   "source": []
  },
  {
   "cell_type": "code",
   "execution_count": null,
   "id": "d4919eff",
   "metadata": {},
   "outputs": [],
   "source": []
  },
  {
   "cell_type": "code",
   "execution_count": null,
   "id": "0cbd4116",
   "metadata": {},
   "outputs": [],
   "source": []
  }
 ],
 "metadata": {
  "kernelspec": {
   "display_name": "Python 3 (ipykernel)",
   "language": "python",
   "name": "python3"
  },
  "language_info": {
   "codemirror_mode": {
    "name": "ipython",
    "version": 3
   },
   "file_extension": ".py",
   "mimetype": "text/x-python",
   "name": "python",
   "nbconvert_exporter": "python",
   "pygments_lexer": "ipython3",
   "version": "3.9.13"
  }
 },
 "nbformat": 4,
 "nbformat_minor": 5
}
