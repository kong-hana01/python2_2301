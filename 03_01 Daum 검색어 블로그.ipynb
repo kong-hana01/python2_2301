{
 "cells": [
  {
   "cell_type": "markdown",
   "id": "cc942c8d",
   "metadata": {},
   "source": [
    "## Daum + 검색어 + 블로그\n",
    "- 블로그 이름, 게시물 제목, 게시물 url 크롤링"
   ]
  },
  {
   "cell_type": "markdown",
   "id": "afb3f683",
   "metadata": {},
   "source": [
    "1. url 분석\n",
    "\n",
    "https://search.daum.net/search?w=blog&nil_search=btn&DA=NTB&enc=utf8&q=%ED%8C%8C%EC%9D%B4%EC%8D%AC"
   ]
  },
  {
   "cell_type": "markdown",
   "id": "dcb932d3",
   "metadata": {},
   "source": [
    "2. url 생성"
   ]
  },
  {
   "cell_type": "code",
   "execution_count": 3,
   "id": "526af331",
   "metadata": {},
   "outputs": [
    {
     "name": "stdout",
     "output_type": "stream",
     "text": [
      "https://search.daum.net/search?w=blog&nil_search=btn&DA=NTB&enc=utf8&q=%ED%8C%8C%EC%9D%B4%EC%8D%AC\n"
     ]
    }
   ],
   "source": [
    "from bs4 import BeautifulSoup\n",
    "import requests\n",
    "import urllib.parse as urlparser\n",
    "\n",
    "keyword = \"파이썬\"\n",
    "url = f\"https://search.daum.net/search?w=blog&nil_search=btn&DA=NTB&enc=utf8&q={urlparser.quote(keyword)}\" # 코드를 작성하시면 됩니다. -> hint: 모듈 import 하기!\n",
    "print(url)"
   ]
  },
  {
   "cell_type": "markdown",
   "id": "7fbcb1c6",
   "metadata": {},
   "source": [
    "3. request -> response + BeautifulSoup 사용해서 select 할 수 있는 상태로 만들기"
   ]
  },
  {
   "cell_type": "code",
   "execution_count": 4,
   "id": "20212b2a",
   "metadata": {},
   "outputs": [],
   "source": [
    "response = requests.get(url)\n",
    "data = BeautifulSoup(response.text, \"html.parser\")"
   ]
  },
  {
   "cell_type": "markdown",
   "id": "d34e2c4c",
   "metadata": {},
   "source": [
    "4. 블로그 이름 크롤링 진행"
   ]
  },
  {
   "cell_type": "code",
   "execution_count": 11,
   "id": "3b67e34f",
   "metadata": {},
   "outputs": [
    {
     "name": "stdout",
     "output_type": "stream",
     "text": [
      "[1, 3, 5]\n"
     ]
    }
   ],
   "source": [
    "temp = [1, 2, 3, 4, 5]\n",
    "print(temp[::2])"
   ]
  },
  {
   "cell_type": "code",
   "execution_count": 13,
   "id": "4189d5d3",
   "metadata": {},
   "outputs": [
    {
     "name": "stdout",
     "output_type": "stream",
     "text": [
      "['민어흥 it 세상', 'coding diary', '커피보다 우유', '오토코더', 'DODOHAN_LIFE', 'cantona', '관성을 이기는 데이터', '냠냠', 'BEst', '늦깍이 공부시작']\n"
     ]
    }
   ],
   "source": [
    "blog = []\n",
    "for element in data.select(\".f_l a.f_nb\")[::2]:\n",
    "    blog.append(element.text.strip())\n",
    "print(blog) "
   ]
  },
  {
   "cell_type": "markdown",
   "id": "bd626302",
   "metadata": {},
   "source": [
    "5. 게시글 제목 크롤링 진행"
   ]
  },
  {
   "cell_type": "code",
   "execution_count": 14,
   "id": "2b68f16f",
   "metadata": {},
   "outputs": [
    {
     "name": "stdout",
     "output_type": "stream",
     "text": [
      "['파이썬이란 무엇인가', '파이썬 셸과 에디터 사용하기', '스파르타코딩 개발일지 1주차 - 파이썬', '파이썬으로 구구단 만들기', '파이썬은 무엇일까?', '파이썬 기초문법 / Variable', '파이썬 주식 시장 동향 분석 - 자연어처리 감성분석', '파이썬 ver.3_1', '파이썬 시간복잡도', '23.01.14 파이썬 코딩 퀴즈#98,99,100 (프로그래머스)']\n"
     ]
    }
   ],
   "source": [
    "title = []\n",
    "for element in data.select(\".f_link_b\"):\n",
    "    title.append(element.text.strip())\n",
    "print(title)"
   ]
  },
  {
   "cell_type": "markdown",
   "id": "44bb6425",
   "metadata": {},
   "source": [
    "6. 게시글 url 크롤링 진행"
   ]
  },
  {
   "cell_type": "code",
   "execution_count": 15,
   "id": "77fe0cec",
   "metadata": {},
   "outputs": [
    {
     "name": "stdout",
     "output_type": "stream",
     "text": [
      "['http://roarmin.tistory.com/59', 'http://good-code.tistory.com/2', 'https://blog.naver.com/my_deaar/222984093064', 'https://blog.naver.com/autocoder/222984743248', 'http://couthelloworldendl.tistory.com/11', 'http://cantona01.tistory.com/25', 'http://songseungwon.tistory.com/125', 'http://poprocks-strawberry-bubblegum.tistory.com/23', 'http://thomaschoi.tistory.com/672', 'http://yorysis.tistory.com/242']\n"
     ]
    }
   ],
   "source": [
    "url = []\n",
    "for element in data.select(\".f_link_b\"):\n",
    "    url.append(element.attrs['href'].strip())\n",
    "print(url)"
   ]
  },
  {
   "cell_type": "markdown",
   "id": "c856b35f",
   "metadata": {},
   "source": [
    "7. 위의 정보를 합쳐서 다음의 형태로 만들기"
   ]
  },
  {
   "cell_type": "code",
   "execution_count": 18,
   "id": "3544603e",
   "metadata": {},
   "outputs": [
    {
     "name": "stdout",
     "output_type": "stream",
     "text": [
      "[{'post_title': '파이썬이란 무엇인가', 'blog_name': '민어흥 it 세상', 'url': 'http://roarmin.tistory.com/59'}, {'post_title': '파이썬 셸과 에디터 사용하기', 'blog_name': 'coding diary', 'url': 'http://good-code.tistory.com/2'}, {'post_title': '스파르타코딩 개발일지 1주차 - 파이썬', 'blog_name': '커피보다 우유', 'url': 'https://blog.naver.com/my_deaar/222984093064'}, {'post_title': '파이썬으로 구구단 만들기', 'blog_name': '오토코더', 'url': 'https://blog.naver.com/autocoder/222984743248'}, {'post_title': '파이썬은 무엇일까?', 'blog_name': 'DODOHAN_LIFE', 'url': 'http://couthelloworldendl.tistory.com/11'}, {'post_title': '파이썬 기초문법 / Variable', 'blog_name': 'cantona', 'url': 'http://cantona01.tistory.com/25'}, {'post_title': '파이썬 주식 시장 동향 분석 - 자연어처리 감성분석', 'blog_name': '관성을 이기는 데이터', 'url': 'http://songseungwon.tistory.com/125'}, {'post_title': '파이썬 ver.3_1', 'blog_name': '냠냠', 'url': 'http://poprocks-strawberry-bubblegum.tistory.com/23'}, {'post_title': '파이썬 시간복잡도', 'blog_name': 'BEst', 'url': 'http://thomaschoi.tistory.com/672'}, {'post_title': '23.01.14 파이썬 코딩 퀴즈#98,99,100 (프로그래머스)', 'blog_name': '늦깍이 공부시작', 'url': 'http://yorysis.tistory.com/242'}]\n"
     ]
    }
   ],
   "source": [
    "\"\"\"\n",
    "[\n",
    "{\n",
    "    post_title: \"게시글 이름\",\n",
    "    blog_name: \"블로그 이름\",\n",
    "    url: \"게시물 url\"\n",
    "}, {}, {}, {}, ...\n",
    "]\n",
    "\"\"\"\n",
    "result = []\n",
    "for i in range(len(title)):\n",
    "    temp = {\"post_title\": title[i], \"blog_name\": blog[i], \"url\": url[i]}\n",
    "    result.append(temp)\n",
    "print(result)"
   ]
  },
  {
   "cell_type": "markdown",
   "id": "7f0dab3a",
   "metadata": {},
   "source": [
    "## 최종 코드"
   ]
  },
  {
   "cell_type": "code",
   "execution_count": 19,
   "id": "bd083f1c",
   "metadata": {},
   "outputs": [],
   "source": [
    "from bs4 import BeautifulSoup\n",
    "import requests\n",
    "import urllib.parse as urlparser\n",
    "\n",
    "def crowling_keyword_in_daum_blog(keyword):\n",
    "    url = f\"https://search.daum.net/search?w=blog&nil_search=btn&DA=NTB&enc=utf8&q={urlparser.quote(keyword)}\" # 코드를 작성하시면 됩니다. -> hint: 모듈 import 하기!\n",
    "    response = requests.get(url)\n",
    "    data = BeautifulSoup(response.text, \"html.parser\")\n",
    "    blog = []\n",
    "    for element in data.select(\".f_l a.f_nb\")[::2]:\n",
    "        blog.append(element.text.strip())\n",
    "    title = []\n",
    "    for element in data.select(\".f_link_b\"):\n",
    "        title.append(element.text.strip())\n",
    "    url = []\n",
    "    for element in data.select(\".f_link_b\"):\n",
    "        url.append(element.attrs['href'].strip())\n",
    "    result = []\n",
    "    for i in range(len(title)):\n",
    "        temp = {\"post_title\": title[i], \"blog_name\": blog[i], \"url\": url[i]}\n",
    "        result.append(temp)\n",
    "    return result"
   ]
  },
  {
   "cell_type": "code",
   "execution_count": 22,
   "id": "946b1d52",
   "metadata": {},
   "outputs": [
    {
     "name": "stdout",
     "output_type": "stream",
     "text": [
      "10\n"
     ]
    }
   ],
   "source": [
    "print(len(crowling_keyword_in_daum_blog(\"코로나\")))"
   ]
  }
 ],
 "metadata": {
  "kernelspec": {
   "display_name": "Python 3 (ipykernel)",
   "language": "python",
   "name": "python3"
  },
  "language_info": {
   "codemirror_mode": {
    "name": "ipython",
    "version": 3
   },
   "file_extension": ".py",
   "mimetype": "text/x-python",
   "name": "python",
   "nbconvert_exporter": "python",
   "pygments_lexer": "ipython3",
   "version": "3.9.13"
  }
 },
 "nbformat": 4,
 "nbformat_minor": 5
}
