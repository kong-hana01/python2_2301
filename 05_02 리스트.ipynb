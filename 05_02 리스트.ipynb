{
 "cells": [
  {
   "cell_type": "markdown",
   "id": "68f087ad",
   "metadata": {},
   "source": [
    "## 리스트(List)\n",
    "1. (동일한 타입의) 데이터(들)의 순서가 유지된 형태의 선형 자료구조\n",
    "2. 데이터의 중복 저장을 허용"
   ]
  },
  {
   "cell_type": "markdown",
   "id": "ed726f35",
   "metadata": {},
   "source": [
    "### 리스트의 구현 방법\n",
    "1. 연결 리스트(Linked List)\n",
    "2. 배열 리스트(Array List)\n",
    "\n",
    "![배열 vs 연결리스트](https://qph.fs.quoracdn.net/main-qimg-41cdfa9a815220598f2c03f1bccaeff8)"
   ]
  },
  {
   "cell_type": "markdown",
   "id": "f6697692",
   "metadata": {},
   "source": [
    "### Linked list와 Array List의 장단점\n",
    "#### Linked List\n",
    "- 장점: 데이터의 추가, 삭제가 편합니다.\n",
    "- 단점: n번째 데이터를 조회하기 어렵습니다.(0번째부터 n번째까지 모든 데이터를 조회한 뒤에 찾을 수 있음)\n",
    "\n",
    "#### Array List\n",
    "- 장점: 인덱스가 존재하기에 n번째 데이터를 조회하기 쉽습니다.(주소값이 일렬로 나열되어있기 때문에 단순 산술연산만으로 인덱스 계산이 가능)\n",
    "- 단점: 데이터의 삽입, 삭제가 어렵습니다."
   ]
  },
  {
   "cell_type": "code",
   "execution_count": 3,
   "id": "cbbba0d7",
   "metadata": {},
   "outputs": [
    {
     "name": "stdout",
     "output_type": "stream",
     "text": [
      "a\n"
     ]
    }
   ],
   "source": [
    "array = [2, 23, \"a\", \"dd\", \"7a\"] # 편의 상 list를 array list로 가정\n",
    "print(array[2])"
   ]
  },
  {
   "cell_type": "markdown",
   "id": "59daeae8",
   "metadata": {},
   "source": [
    "### Node\n",
    "'값(데이터)' + '다음 Node에 대한 포인터'로 이뤄진 객체\n",
    "\n",
    "![노드](https://img1.daumcdn.net/thumb/R800x0/?scode=mtistory2&fname=https%3A%2F%2Ft1.daumcdn.net%2Fcfile%2Ftistory%2F23490844589151461C)"
   ]
  },
  {
   "cell_type": "code",
   "execution_count": 1,
   "id": "d1a3b9f1",
   "metadata": {},
   "outputs": [],
   "source": [
    "class Node:\n",
    "    def __init__(self, data, pointer = None):\n",
    "        self.data = data\n",
    "        self.pointer = pointer\n"
   ]
  },
  {
   "cell_type": "code",
   "execution_count": 3,
   "id": "8fe2871d",
   "metadata": {},
   "outputs": [
    {
     "name": "stdout",
     "output_type": "stream",
     "text": [
      "<__main__.Node object at 0x000002834C6CFE20>\n",
      "n1 None\n"
     ]
    }
   ],
   "source": [
    "n1 = Node(\"n1\")\n",
    "print(n1)\n",
    "print(n1.data, n1.pointer)"
   ]
  },
  {
   "cell_type": "code",
   "execution_count": 12,
   "id": "a5a3051f",
   "metadata": {},
   "outputs": [],
   "source": [
    "class Node:\n",
    "    def __init__(self, data, pointer = None):\n",
    "        self.data = data\n",
    "        self.pointer = pointer\n",
    "        \n",
    "    # getter setter\n",
    "    def getData(self):\n",
    "        return self.data\n",
    "    \n",
    "    def getPointer(self):\n",
    "        return self.pointer\n",
    "    \n",
    "    def setData(self, data):\n",
    "        self.data = data\n",
    "    \n",
    "    def setPointer(self, pointer):\n",
    "        self.pointer = pointer\n",
    "        \n",
    "    # represent 형식의 매직메서드\n",
    "    def __repr__(self):\n",
    "        return f\"{str(self.data)} -> {str(self.pointer)}\""
   ]
  },
  {
   "cell_type": "code",
   "execution_count": 14,
   "id": "a9e04bdb",
   "metadata": {},
   "outputs": [
    {
     "name": "stdout",
     "output_type": "stream",
     "text": [
      "1 -> None\n"
     ]
    }
   ],
   "source": [
    "n1 = Node(\"1\")\n",
    "print(n1)"
   ]
  },
  {
   "cell_type": "code",
   "execution_count": 15,
   "id": "65c9f35e",
   "metadata": {},
   "outputs": [
    {
     "name": "stdout",
     "output_type": "stream",
     "text": [
      "2 -> None\n"
     ]
    }
   ],
   "source": [
    "n2 = Node(\"2\")\n",
    "print(n2)"
   ]
  },
  {
   "cell_type": "code",
   "execution_count": 17,
   "id": "4d23efed",
   "metadata": {},
   "outputs": [
    {
     "name": "stdout",
     "output_type": "stream",
     "text": [
      "1 -> 2 -> None\n"
     ]
    }
   ],
   "source": [
    "n1.setPointer(n2)\n",
    "print(n1)"
   ]
  },
  {
   "cell_type": "code",
   "execution_count": 20,
   "id": "179631f8",
   "metadata": {},
   "outputs": [
    {
     "name": "stdout",
     "output_type": "stream",
     "text": [
      "3 -> 2 -> None\n"
     ]
    }
   ],
   "source": [
    "n3 = Node(\"3\", n2)\n",
    "print(n3)"
   ]
  },
  {
   "cell_type": "code",
   "execution_count": 22,
   "id": "99238957",
   "metadata": {},
   "outputs": [],
   "source": [
    "L = Node(\"a\", Node(\"b\", Node(\"c\", Node(\"d\"))))"
   ]
  },
  {
   "cell_type": "code",
   "execution_count": 25,
   "id": "7abde709",
   "metadata": {},
   "outputs": [
    {
     "name": "stdout",
     "output_type": "stream",
     "text": [
      "a -> b -> c -> d -> None\n",
      "b -> c -> d -> None\n",
      "c\n"
     ]
    }
   ],
   "source": [
    "print(L)\n",
    "print(L.getPointer())\n",
    "print(L.getPointer().getPointer().getData())"
   ]
  },
  {
   "cell_type": "markdown",
   "id": "6973bd51",
   "metadata": {},
   "source": [
    "### Linked list 구현\n",
    "1. 노드 삽입\n",
    "- 새로운 노드를 뒤에 추가\n",
    "- 새로운 노드를 n번째 위치에 추가\n",
    "\n",
    "2. 노드 삭제\n",
    "- n번째 노드 삭제\n",
    "- 특정 값의 노드 삭제\n",
    "- 모든 노드 삭제\n",
    "\n",
    "3. 노드 검색\n",
    "- n번째 노드 검색\n",
    "- 특정 값의 노드 검색\n",
    "\n",
    "4. 노드 출력\n",
    "- 모든 노드의 값 출력"
   ]
  },
  {
   "cell_type": "markdown",
   "id": "c5d6af65",
   "metadata": {},
   "source": [
    "![배열 vs 연결리스트](https://qph.fs.quoracdn.net/main-qimg-41cdfa9a815220598f2c03f1bccaeff8)"
   ]
  },
  {
   "cell_type": "code",
   "execution_count": 83,
   "id": "62d2a43b",
   "metadata": {},
   "outputs": [],
   "source": [
    "class LinkedList:\n",
    "    \n",
    "    # 생성자 정의\n",
    "    # 멤버 변수: head, tail, length\n",
    "    def __init__(self):\n",
    "        # LinkedList가 처음 생성될 때는 head와 tail이 None\n",
    "        self.head = None # 리스트의 첫번째 노드를 가리키는 포인터\n",
    "        self.tail = None # 리스트의 마지막 노드를 가리키는 포인터\n",
    "        self.length = 0 # 리스트의 노드 개수\n",
    "    \n",
    "    # 새로운 노드를 뒤에 추가\n",
    "    def add_node(self, data):\n",
    "         \n",
    "        # 새로 추가될 노드 객체 생성\n",
    "        node = Node(data)\n",
    "        \n",
    "        # 첫번째로 추가되는 노드인 경우\n",
    "        if not self.head: # not self.tail, self.length == 0\n",
    "            \n",
    "            # 첫번째 노드이기에 head, tail 모두 새 노드를 가리킴\n",
    "            self.head = node\n",
    "            self.tail = node\n",
    "        \n",
    "        # 한 개 이상의 노드가 있는 경우\n",
    "        else:\n",
    "            self.tail.pointer = node # 새 노드가 기존 tail 뒤에 연결\n",
    "            self.tail = node\n",
    "            \n",
    "        self.length += 1\n",
    "        \n",
    "    \n",
    "    # n번째 노드 추가\n",
    "    def insert_node(self, index, data):\n",
    "        node, prev, i = self.find_node_by_index(index) # 해당 위치의 노드 찾기\n",
    "        \n",
    "        newNode = Node(data, node)\n",
    "        # 맨 앞에 insert 되는 경우\n",
    "        if not prev:\n",
    "            self.head = newNode\n",
    "        else:\n",
    "            prev.pointer = newNode\n",
    "        \n",
    "        # 맨 뒤에 insert 되는 경우나 tail이 없는 경우\n",
    "        if self.tail == prev or not self.tail:\n",
    "            self.tail = newNode\n",
    "        \n",
    "        self.length += 1\n",
    "    \n",
    "    \n",
    "    # n번째 노드 삭제\n",
    "    def delete_node_by_index(self, index):\n",
    "        node, prev, i = self.find_node_by_index(index)\n",
    "        \n",
    "        # 노드가 없거나, 하나 밖에 없는 상황\n",
    "        if not self.head or not self.head.pointer: # self.length < 2\n",
    "            self.head = None\n",
    "            self.tail = None\n",
    "            self.length = 0\n",
    "            print(\"Linked List가 비었습니다.\")\n",
    "        \n",
    "        else:\n",
    "            # index번째 노드가 존재한다면\n",
    "            if node:\n",
    "                if i == 0:\n",
    "                    self.head = node.pointer\n",
    "                else:\n",
    "                    prev.pointer = node.pointer\n",
    "                \n",
    "                self.length -= 1\n",
    "    \n",
    "    \n",
    "    # 특정 값 노드를 삭제\n",
    "    def delete_node_by_data(self, data):\n",
    "        node, prev, is_found = self.find_node_by_data(data)\n",
    "        \n",
    "        # 노드가 없거나 하나 밖에 없는 상황\n",
    "        if not self.head or not self.head.pointer: # self.length < 2\n",
    "            self.head = None\n",
    "            self.tail = None\n",
    "            self.length = 0\n",
    "            print(\"Linked List가 비었습니다.\")\n",
    "        \n",
    "        # 노드가 두 개 이상인 경우\n",
    "        else:\n",
    "            \n",
    "            # 특정한 값의 노드가 있는 경우\n",
    "            if is_found:\n",
    "                \n",
    "                # 첫번째 인덱스의 노드를 삭제하는 경우\n",
    "                if not prev:\n",
    "                    self.head = node.pointer\n",
    "                else:\n",
    "                    prev.pointer = node.pointer\n",
    "                \n",
    "                self.length -= 1\n",
    "            \n",
    "            \n",
    "    # 모든 노드를 삭제\n",
    "    def delete_all(self):\n",
    "        self.head = None\n",
    "        self.tail = None\n",
    "        self.length = 0\n",
    "        print(\"Linked list가 비었습니다.\")\n",
    "    \n",
    "    \n",
    "    # n번째 노드 검색\n",
    "    def find_node_by_index(self, index):\n",
    "        \n",
    "        # head부터 검색 시작\n",
    "        node = self.head\n",
    "        prev = None # 발견한 노드의 이전 노드\n",
    "        i = 0 # 현재 탐색 중인 노드의 인덱스\n",
    "        \n",
    "        while node and i < index:\n",
    "            prev = node\n",
    "            node = node.getPointer()\n",
    "            i += 1\n",
    "        \n",
    "        return node, prev, i\n",
    "    \n",
    "    # 특정 값의 노드 검색\n",
    "    def find_node_by_data(self, data):\n",
    "        \n",
    "        # head부터 검색 시작\n",
    "        node = self.head\n",
    "        prev = None # 발견한 노드의 이전 노드\n",
    "        is_found = False\n",
    "        while node and not is_found: # 노드를 찾으면 조건문 False\n",
    "            if node.getData() == data:\n",
    "                is_found = True\n",
    "            else:\n",
    "                prev = node\n",
    "                node = node.getPointer()\n",
    "        \n",
    "        return node, prev, is_found\n",
    "    \n",
    "    \n",
    "    # 모든 노드의 값 출력\n",
    "    def print_list(self):\n",
    "        node = self.head\n",
    "        \n",
    "        # 맨 끝에 다다를 때까지 반복(가장 마지막 노드는 None)\n",
    "        while node:\n",
    "            print(node.getData(), end = \" -> \")\n",
    "            node = node.getPointer() # 노드를 다음 노드로 이동\n",
    "        \n",
    "        print(\"None\") # 마지막에 None 출력"
   ]
  },
  {
   "cell_type": "code",
   "execution_count": 84,
   "id": "71f384a6",
   "metadata": {},
   "outputs": [
    {
     "name": "stdout",
     "output_type": "stream",
     "text": [
      "1 -> 2 -> 100 -> -55 -> None\n"
     ]
    }
   ],
   "source": [
    "ll = LinkedList()\n",
    "ll.add_node(1)\n",
    "ll.add_node(2)\n",
    "ll.add_node(100)\n",
    "ll.add_node(-55)\n",
    "ll.print_list()"
   ]
  },
  {
   "cell_type": "code",
   "execution_count": 85,
   "id": "8a47046d",
   "metadata": {},
   "outputs": [
    {
     "name": "stdout",
     "output_type": "stream",
     "text": [
      "100\n",
      "2\n",
      "2\n"
     ]
    }
   ],
   "source": [
    "node, prev, i = ll.find_node_by_index(2)\n",
    "print(node.getData())\n",
    "print(prev.getData())\n",
    "print(i)"
   ]
  },
  {
   "cell_type": "code",
   "execution_count": 86,
   "id": "54a881e6",
   "metadata": {},
   "outputs": [
    {
     "name": "stdout",
     "output_type": "stream",
     "text": [
      "None\n",
      "-55\n",
      "4\n"
     ]
    }
   ],
   "source": [
    "node, prev, i = ll.find_node_by_index(100)\n",
    "print(node)\n",
    "print(prev.getData())\n",
    "print(i)"
   ]
  },
  {
   "cell_type": "code",
   "execution_count": 87,
   "id": "ea1540b2",
   "metadata": {},
   "outputs": [
    {
     "name": "stdout",
     "output_type": "stream",
     "text": [
      "1 -> 2 -> 100 -> -55 -> None\n",
      "1 -> 2 -> 10000 -> 100 -> -55 -> -1 -> None\n"
     ]
    }
   ],
   "source": [
    "ll.print_list()\n",
    "ll.insert_node(2, 10000)\n",
    "ll.insert_node(100, -1)\n",
    "ll.print_list()"
   ]
  },
  {
   "cell_type": "code",
   "execution_count": 88,
   "id": "8888ebf6",
   "metadata": {
    "scrolled": true
   },
   "outputs": [
    {
     "name": "stdout",
     "output_type": "stream",
     "text": [
      "1 -> 2 -> 10000 -> -55 -> -1 -> None\n",
      "2 -> 10000 -> -55 -> -1 -> None\n"
     ]
    }
   ],
   "source": [
    "ll.delete_node_by_index(3)\n",
    "ll.print_list()\n",
    "ll.delete_node_by_index(0)\n",
    "ll.print_list()"
   ]
  },
  {
   "cell_type": "code",
   "execution_count": 89,
   "id": "71775dad",
   "metadata": {},
   "outputs": [
    {
     "name": "stdout",
     "output_type": "stream",
     "text": [
      "2 -> 10000 -> -55 -> -1 -> None\n",
      "2 -> 10000 -> -1 -> None\n"
     ]
    }
   ],
   "source": [
    "ll.delete_node_by_data(3)\n",
    "ll.print_list()\n",
    "ll.delete_node_by_data(-55)\n",
    "ll.print_list()"
   ]
  },
  {
   "cell_type": "code",
   "execution_count": 90,
   "id": "11fe130a",
   "metadata": {},
   "outputs": [
    {
     "name": "stdout",
     "output_type": "stream",
     "text": [
      "Linked list가 비었습니다.\n",
      "None\n"
     ]
    }
   ],
   "source": [
    "ll.delete_all()\n",
    "ll.print_list()"
   ]
  },
  {
   "cell_type": "code",
   "execution_count": null,
   "id": "1e2bc027",
   "metadata": {},
   "outputs": [],
   "source": []
  },
  {
   "cell_type": "code",
   "execution_count": null,
   "id": "bf1494b7",
   "metadata": {},
   "outputs": [],
   "source": []
  },
  {
   "cell_type": "code",
   "execution_count": null,
   "id": "08d8a06b",
   "metadata": {},
   "outputs": [],
   "source": []
  }
 ],
 "metadata": {
  "kernelspec": {
   "display_name": "Python 3 (ipykernel)",
   "language": "python",
   "name": "python3"
  },
  "language_info": {
   "codemirror_mode": {
    "name": "ipython",
    "version": 3
   },
   "file_extension": ".py",
   "mimetype": "text/x-python",
   "name": "python",
   "nbconvert_exporter": "python",
   "pygments_lexer": "ipython3",
   "version": "3.9.13"
  }
 },
 "nbformat": 4,
 "nbformat_minor": 5
}
