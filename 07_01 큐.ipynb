{
 "cells": [
  {
   "cell_type": "markdown",
   "id": "6ef9430e",
   "metadata": {},
   "source": [
    "## 큐(Queue)\n",
    "1. 데이터가 들어온 순서대로 추출됩니다.\n",
    "2. FIFO(First in First out, 선입선출) 구조로 먼저 들어온 데이터가 먼저 추출됩니다.\n",
    "<img src=\"https://miro.medium.com/proxy/0*TRbfsq86lqDoqW6b.png\" style=\"float:left; width:450px; height:auto\">"
   ]
  },
  {
   "cell_type": "markdown",
   "id": "be720035",
   "metadata": {},
   "source": [
    "# 일상생활에서의 큐\n",
    "<img src=\"https://amudabadmus.files.wordpress.com/2017/04/queue-2012-12-11.jpg?w=800\" style=\"float:left; width:400px; height:auto\">"
   ]
  },
  {
   "cell_type": "markdown",
   "id": "ce020532",
   "metadata": {},
   "source": [
    "### queue의 메소드\n",
    "- enqueue: 큐 뒤쪽에 데이터 삽입\n",
    "- dequeue: 큐 앞쪽의 데이터를 (리턴하고) 제거\n",
    "- peek: 큐 앞쪽의 항목을 조회\n",
    "- empty: 큐가 비어있는지 확인|\n",
    "- size: 큐 크기 확인"
   ]
  },
  {
   "cell_type": "markdown",
   "id": "4c13b961",
   "metadata": {},
   "source": [
    "### 1. 라이브러리를 활용한 큐 구현"
   ]
  },
  {
   "cell_type": "code",
   "execution_count": 6,
   "id": "ad49f5eb",
   "metadata": {
    "collapsed": true
   },
   "outputs": [
    {
     "name": "stdout",
     "output_type": "stream",
     "text": [
      "deque([])\n",
      "deque([1, 2, 10])\n",
      "1\n",
      "deque([2, 10])\n",
      "2\n",
      "False\n",
      "2\n"
     ]
    }
   ],
   "source": [
    "from collections import deque\n",
    "queue = deque([])\n",
    "print(queue)\n",
    "\n",
    "# enqueue\n",
    "queue.append(1)\n",
    "queue.append(2)\n",
    "queue.append(10)\n",
    "print(queue)\n",
    "\n",
    "# dequeue\n",
    "x = queue.popleft()\n",
    "print(x)\n",
    "print(queue)\n",
    "\n",
    "# peek\n",
    "print(queue[0])\n",
    "\n",
    "# empty\n",
    "print(len(queue) == 0)\n",
    "\n",
    "# size\n",
    "print(len(queue))"
   ]
  },
  {
   "cell_type": "markdown",
   "id": "317d8596",
   "metadata": {},
   "source": [
    "### 2. Node를 사용한 큐 구현"
   ]
  },
  {
   "cell_type": "code",
   "execution_count": 7,
   "id": "9018f367",
   "metadata": {},
   "outputs": [],
   "source": [
    "class Node:\n",
    "    def __init__(self, value, pointer = None):\n",
    "        self.value = value\n",
    "        self.pointer = pointer"
   ]
  },
  {
   "cell_type": "code",
   "execution_count": 23,
   "id": "a9c47e36",
   "metadata": {},
   "outputs": [],
   "source": [
    "class Queue:\n",
    "    def __init__(self):\n",
    "        self.front = None # head\n",
    "        self.back = None # tail, rear\n",
    "        self.size = 0 # 데이터의 개수\n",
    "    \n",
    "    def enqueue(self, value):\n",
    "        node = Node(value)\n",
    "        # 첫 데이터인 경우\n",
    "        if not self.front:\n",
    "            self.front = node\n",
    "            self.back = node\n",
    "        else: # 데이터가 이미 있는 경우\n",
    "            self.back.pointer = node # back 뒤에 node 붙이기\n",
    "            self.back = node # back 이동\n",
    "        self.size += 1 # 데이터의 개수 추가\n",
    "        \n",
    "    def print_queue(self):\n",
    "        node = self.front\n",
    "        while node:\n",
    "            print(node.value, end = \" - \")\n",
    "            node = node.pointer\n",
    "        print(\"None\")\n",
    "        \n",
    "    def is_empty(self):\n",
    "        return self.size == 0\n",
    "    \n",
    "    def dequeue(self):\n",
    "        # 데이터가 존재한다면 front 위치의 데이터 리턴, 없다면 None 리턴\n",
    "        if self.is_empty(): # 데이터가 없는 경우\n",
    "            return None\n",
    "        node = self.front\n",
    "        self.front = self.front.pointer # front 이동\n",
    "        self.size -= 1\n",
    "        return node\n",
    "    \n",
    "    def peek(self):\n",
    "        return self.front\n",
    "    \n",
    "    def get_size(self):\n",
    "        return self.size\n",
    "    \n",
    "    def make_empty(self):\n",
    "        # 1번\n",
    "        # self.front = None # head\n",
    "        # self.back = None # tail, rear\n",
    "        # self.size = 0 # 데이터의 개수\n",
    "        \n",
    "        # 2번\n",
    "        while self.dequeue():\n",
    "            pass\n",
    "        "
   ]
  },
  {
   "cell_type": "code",
   "execution_count": 25,
   "id": "ed4e0358",
   "metadata": {},
   "outputs": [
    {
     "name": "stdout",
     "output_type": "stream",
     "text": [
      "1 - 10 - -123 - None\n",
      "False\n",
      "1\n",
      "10 - -123 - None\n",
      "10\n",
      "2\n",
      "True\n",
      "None\n",
      "0\n",
      "None\n"
     ]
    }
   ],
   "source": [
    "queue = Queue()\n",
    "queue.enqueue(1)\n",
    "queue.enqueue(10)\n",
    "queue.enqueue(-123)\n",
    "\n",
    "queue.print_queue()\n",
    "\n",
    "print(queue.is_empty())\n",
    "\n",
    "x = queue.dequeue()\n",
    "print(x.value)\n",
    "queue.print_queue()\n",
    "\n",
    "print(queue.peek().value)\n",
    "print(queue.get_size())\n",
    "\n",
    "queue.make_empty()\n",
    "print(queue.is_empty())\n",
    "print(queue.peek())\n",
    "print(queue.get_size())\n",
    "queue.print_queue()"
   ]
  },
  {
   "cell_type": "code",
   "execution_count": 20,
   "id": "3a339f79",
   "metadata": {},
   "outputs": [
    {
     "name": "stdout",
     "output_type": "stream",
     "text": [
      "None\n"
     ]
    }
   ],
   "source": [
    "queue = Queue()\n",
    "x = queue.dequeue()\n",
    "if x != None: # 예외 처리\n",
    "    print(x.value)\n",
    "else:\n",
    "    print(x)"
   ]
  },
  {
   "cell_type": "code",
   "execution_count": 22,
   "id": "301080ee",
   "metadata": {},
   "outputs": [
    {
     "name": "stdout",
     "output_type": "stream",
     "text": [
      "None\n"
     ]
    }
   ],
   "source": [
    "try:\n",
    "    print(x.value)\n",
    "except AttributeError as e:\n",
    "    print(x)"
   ]
  }
 ],
 "metadata": {
  "kernelspec": {
   "display_name": "Python 3 (ipykernel)",
   "language": "python",
   "name": "python3"
  },
  "language_info": {
   "codemirror_mode": {
    "name": "ipython",
    "version": 3
   },
   "file_extension": ".py",
   "mimetype": "text/x-python",
   "name": "python",
   "nbconvert_exporter": "python",
   "pygments_lexer": "ipython3",
   "version": "3.9.13"
  }
 },
 "nbformat": 4,
 "nbformat_minor": 5
}
