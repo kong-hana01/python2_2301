{
 "cells": [
  {
   "cell_type": "code",
   "execution_count": null,
   "id": "ccf892aa",
   "metadata": {},
   "outputs": [],
   "source": [
    "'''\n",
    "최종 결과\n",
    "[{'blog_title': \"블로그 이름\", \"post_title\": \"게시글 제목\"}, {}, {}, ...]\n",
    "'''"
   ]
  },
  {
   "cell_type": "markdown",
   "id": "ce36b725",
   "metadata": {},
   "source": [
    "1. url 분석\n",
    "\n",
    "https://search.naver.com/search.naver?query=%ED%8C%8C%EC%9D%B4%EC%8D%AC&nso=&where=blog&sm=tab_opt"
   ]
  },
  {
   "cell_type": "markdown",
   "id": "de279fed",
   "metadata": {},
   "source": [
    "2. url 생성"
   ]
  },
  {
   "cell_type": "code",
   "execution_count": 1,
   "id": "cb3677d5",
   "metadata": {},
   "outputs": [
    {
     "name": "stdout",
     "output_type": "stream",
     "text": [
      "https://search.naver.com/search.naver?query=%ED%8C%8C%EC%9D%B4%EC%8D%AC&nso=&where=blog&sm=tab_opt\n"
     ]
    }
   ],
   "source": [
    "from bs4 import BeautifulSoup\n",
    "import requests\n",
    "import urllib.parse as urlparser\n",
    "\n",
    "keyword = \"파이썬\"\n",
    "url = f\"https://search.naver.com/search.naver?query={urlparser.quote(keyword)}&nso=&where=blog&sm=tab_opt\"\n",
    "print(url)"
   ]
  },
  {
   "cell_type": "markdown",
   "id": "da9737b3",
   "metadata": {},
   "source": [
    "3. req + res // BeautifulSoup 사용해서 parsing"
   ]
  },
  {
   "cell_type": "code",
   "execution_count": 2,
   "id": "a235c345",
   "metadata": {},
   "outputs": [],
   "source": [
    "response = requests.get(url)\n",
    "data = BeautifulSoup(response.text, \"html.parser\")"
   ]
  },
  {
   "cell_type": "markdown",
   "id": "f69df987",
   "metadata": {},
   "source": [
    "4. 블로그 이름 파싱"
   ]
  },
  {
   "cell_type": "code",
   "execution_count": 6,
   "id": "5a31c645",
   "metadata": {},
   "outputs": [
    {
     "name": "stdout",
     "output_type": "stream",
     "text": [
      "['반짝반짝 빛나는', 'Humanity & Architecture 건축 인문', '취미부자 짠테커 집사', 'KEBI BLOG', '(주)신성씨앤에스', '난 할 수 있다', '주들의 그리 대단하진 않지만 굉장한 이야기', '모순 덩어리', '비비디 바비디 부', '후야와 율군이 있어 행복한 세상', 'hAsiCa:)', '원탑프로', '로사쌤의 컴교실', '전주코딩 교육 전문 스마트라이프연구소 & 학원', '인테리어', 'IT 정보통', '볼빨간 유부♡(,,>᎑<,,)♡', '(주)신성씨앤에스', '코딩샐러드', '주들의 그리 대단하진 않지만 굉장한 이야기', '그냥그냥님의 블로그', '비비디 바비디 부', '미래 진로 준비', '하나컴퓨터학원', 'itnamu의 포토로그', '원탑프로', '내만게만동인', 'WOONG-Z', 'IT 정보통', '전주코딩 교육 전문 스마트라이프연구소 & 학원']\n"
     ]
    }
   ],
   "source": [
    "blog = []\n",
    "for element in data.select(\".sub_txt.sub_name\"):\n",
    "    blog.append(element.text.strip())\n",
    "print(blog)"
   ]
  },
  {
   "cell_type": "markdown",
   "id": "28498f13",
   "metadata": {},
   "source": [
    "5. 게시글 제목 파싱"
   ]
  },
  {
   "cell_type": "code",
   "execution_count": 7,
   "id": "f6466dce",
   "metadata": {},
   "outputs": [
    {
     "name": "stdout",
     "output_type": "stream",
     "text": [
      "['파이썬 자격증 취득 수업 내용 정리!', '파이썬 학원 선택 이유 및 수업과정', '파이썬 강의 취업 성공의 필수 학습전략', '개발자 협업 위한 Git, Github \"파이썬 코드로 배우는 Git...', '파이썬으로 GUI 쉽게 만들 수 있는 툴 파이큐티 PYQT 특징...', '파이썬학원 진로', '파이썬 개발자 : 수행 업무 및 구인 수요 분석', '프로그래밍학원 탄탄한 파이썬 기초 수업 과정', '파이썬개발자, 취업 시 연봉을 높일 수 있는 가이드라인은?', '코딩학원 빅데이터 기초부터 배우기(파이썬 사용)', '파이썬 학원 비전공자 배우는 과정!', '[책추천] Hello IT 파이썬을 제대로 활용해 보려고 해', '파이썬 코딩 자격증 Class - Cos Pro 자격증 2023년 시험 일정', '파이썬 GUI프로그래밍 Tkinter 버튼과 포토이미지', '파이썬 국비지원 교육이 비전공자에게 적합할까?', '[부산파이썬학원] - 빅데이터의 시작', '서울파이썬학원 :: 파이썬공부를 위한 파이썬학원추천(종로,강남)', '천문학 데이터 분석용 컴퓨터는?파이썬 머신러닝...', '파이썬 연산자 : 비교 연산자와 논리 연산자 활용 예제', '파이썬 독학 : 첫 시작은 Web 개발을 목표로', '[파이썬 마스터 1급]합격!!! (feat. 시험 접수부터 시험장...', '파이썬자격증 종류와 취업시 활용방안', '컴퓨터교육 파이썬,C언어 코딩전문학원 IT학과진학까지', '파이썬 반복문 : for문 설명', '업무자동화 프로그래밍 파이썬 코딩 강의 ITUP', '파이썬 코드로 배우는 Git & Github 영진닷컴', '파이썬 게임 프로그래밍 서적 5종 리뷰', '도서 리뷰 :: 혼자 공부하는 데이터 분석 with 파이썬', '센텀파이썬학원 - 코딩의 입문!', '전주코딩 - 2023년 1월 겨울방학 파이썬 특강을 진행합니다.']\n"
     ]
    }
   ],
   "source": [
    "title = []\n",
    "for element in data.select(\".api_txt_lines.total_tit\"):\n",
    "    title.append(element.text.strip())\n",
    "print(title)"
   ]
  },
  {
   "cell_type": "markdown",
   "id": "d739af5c",
   "metadata": {},
   "source": [
    "6. 블로그 이름과 게시글 제목 최종 결과 만들기"
   ]
  },
  {
   "cell_type": "code",
   "execution_count": 8,
   "id": "be2fd80e",
   "metadata": {
    "collapsed": true
   },
   "outputs": [
    {
     "name": "stdout",
     "output_type": "stream",
     "text": [
      "[{'post_title': '파이썬 자격증 취득 수업 내용 정리!', 'blog_name': '반짝반짝 빛나는'}, {'post_title': '파이썬 학원 선택 이유 및 수업과정', 'blog_name': 'Humanity & Architecture 건축 인문'}, {'post_title': '파이썬 강의 취업 성공의 필수 학습전략', 'blog_name': '취미부자 짠테커 집사'}, {'post_title': '개발자 협업 위한 Git, Github \"파이썬 코드로 배우는 Git...', 'blog_name': 'KEBI BLOG'}, {'post_title': '파이썬으로 GUI 쉽게 만들 수 있는 툴 파이큐티 PYQT 특징...', 'blog_name': '(주)신성씨앤에스'}, {'post_title': '파이썬학원 진로', 'blog_name': '난 할 수 있다'}, {'post_title': '파이썬 개발자 : 수행 업무 및 구인 수요 분석', 'blog_name': '주들의 그리 대단하진 않지만 굉장한 이야기'}, {'post_title': '프로그래밍학원 탄탄한 파이썬 기초 수업 과정', 'blog_name': '모순 덩어리'}, {'post_title': '파이썬개발자, 취업 시 연봉을 높일 수 있는 가이드라인은?', 'blog_name': '비비디 바비디 부'}, {'post_title': '코딩학원 빅데이터 기초부터 배우기(파이썬 사용)', 'blog_name': '후야와 율군이 있어 행복한 세상'}, {'post_title': '파이썬 학원 비전공자 배우는 과정!', 'blog_name': 'hAsiCa:)'}, {'post_title': '[책추천] Hello IT 파이썬을 제대로 활용해 보려고 해', 'blog_name': '원탑프로'}, {'post_title': '파이썬 코딩 자격증 Class - Cos Pro 자격증 2023년 시험 일정', 'blog_name': '로사쌤의 컴교실'}, {'post_title': '파이썬 GUI프로그래밍 Tkinter 버튼과 포토이미지', 'blog_name': '전주코딩 교육 전문 스마트라이프연구소 & 학원'}, {'post_title': '파이썬 국비지원 교육이 비전공자에게 적합할까?', 'blog_name': '인테리어'}, {'post_title': '[부산파이썬학원] - 빅데이터의 시작', 'blog_name': 'IT 정보통'}, {'post_title': '서울파이썬학원 :: 파이썬공부를 위한 파이썬학원추천(종로,강남)', 'blog_name': '볼빨간 유부♡(,,>᎑<,,)♡'}, {'post_title': '천문학 데이터 분석용 컴퓨터는?파이썬 머신러닝...', 'blog_name': '(주)신성씨앤에스'}, {'post_title': '파이썬 연산자 : 비교 연산자와 논리 연산자 활용 예제', 'blog_name': '코딩샐러드'}, {'post_title': '파이썬 독학 : 첫 시작은 Web 개발을 목표로', 'blog_name': '주들의 그리 대단하진 않지만 굉장한 이야기'}, {'post_title': '[파이썬 마스터 1급]합격!!! (feat. 시험 접수부터 시험장...', 'blog_name': '그냥그냥님의 블로그'}, {'post_title': '파이썬자격증 종류와 취업시 활용방안', 'blog_name': '비비디 바비디 부'}, {'post_title': '컴퓨터교육 파이썬,C언어 코딩전문학원 IT학과진학까지', 'blog_name': '미래 진로 준비'}, {'post_title': '파이썬 반복문 : for문 설명', 'blog_name': '하나컴퓨터학원'}, {'post_title': '업무자동화 프로그래밍 파이썬 코딩 강의 ITUP', 'blog_name': 'itnamu의 포토로그'}, {'post_title': '파이썬 코드로 배우는 Git & Github 영진닷컴', 'blog_name': '원탑프로'}, {'post_title': '파이썬 게임 프로그래밍 서적 5종 리뷰', 'blog_name': '내만게만동인'}, {'post_title': '도서 리뷰 :: 혼자 공부하는 데이터 분석 with 파이썬', 'blog_name': 'WOONG-Z'}, {'post_title': '센텀파이썬학원 - 코딩의 입문!', 'blog_name': 'IT 정보통'}, {'post_title': '전주코딩 - 2023년 1월 겨울방학 파이썬 특강을 진행합니다.', 'blog_name': '전주코딩 교육 전문 스마트라이프연구소 & 학원'}]\n"
     ]
    }
   ],
   "source": [
    "result = []\n",
    "for i in range(len(title)):\n",
    "    result.append({\"post_title\": title[i], \"blog_name\": blog[i]})\n",
    "print(result)"
   ]
  },
  {
   "cell_type": "markdown",
   "id": "c56055c9",
   "metadata": {},
   "source": [
    "## 완성 코드"
   ]
  },
  {
   "cell_type": "code",
   "execution_count": null,
   "id": "cddbdd62",
   "metadata": {},
   "outputs": [],
   "source": [
    "from bs4 import BeautifulSoup\n",
    "import requests\n",
    "import urllib.parse as urlparser\n",
    "\n",
    "def crowling_keyword_in_naver_blog(keyword):\n",
    "    url = f\"https://search.naver.com/search.naver?query={urlparser.quote(keyword)}&nso=&where=blog&sm=tab_opt\"\n",
    "    response = requests.get(url)\n",
    "    data = BeautifulSoup(response.text, \"html.parser\")\n",
    "    title = []\n",
    "    for element in data.select(\".api_txt_lines.total_tit\"):\n",
    "        title.append(element.text.strip())\n",
    "    blog = []\n",
    "    for element in data.select(\".sub_txt.sub_name\"):\n",
    "        blog.append(element.text.strip())\n",
    "    result = []\n",
    "    for i in range(len(title)):\n",
    "        result.append({\"post_title\": title[i], \"blog_name\": blog[i]})\n",
    "    return result"
   ]
  }
 ],
 "metadata": {
  "kernelspec": {
   "display_name": "Python 3 (ipykernel)",
   "language": "python",
   "name": "python3"
  },
  "language_info": {
   "codemirror_mode": {
    "name": "ipython",
    "version": 3
   },
   "file_extension": ".py",
   "mimetype": "text/x-python",
   "name": "python",
   "nbconvert_exporter": "python",
   "pygments_lexer": "ipython3",
   "version": "3.9.13"
  }
 },
 "nbformat": 4,
 "nbformat_minor": 5
}
