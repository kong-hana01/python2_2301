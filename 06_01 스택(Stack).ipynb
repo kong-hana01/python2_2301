{
 "cells": [
  {
   "cell_type": "markdown",
   "id": "a2c695b3",
   "metadata": {},
   "source": [
    "## 스택(Stack)\n",
    "1. 스택은 top에서만 데이터에 접근하는 구조입니다.\n",
    "2. LIFO 구조로 가장 나중에 들어온 데이터가 가장 먼저 나가는 구조입니다.\n",
    "\n",
    "\n",
    "<img src=\"https://wayhome25.github.io/assets/post-img/cs/stack.jpg\">"
   ]
  },
  {
   "cell_type": "markdown",
   "id": "a5bbacc2",
   "metadata": {},
   "source": [
    "### 일상생활에서의 스택\n",
    "![스택](https://qph.fs.quoracdn.net/main-qimg-abf0634496b7412bef7f857f9457b003.webp)\n",
    "![스택](https://lifeindatastructures.files.wordpress.com/2017/10/22.jpg?w=610&h=&crop=1&zoom=2)"
   ]
  },
  {
   "cell_type": "markdown",
   "id": "79445b5e",
   "metadata": {},
   "source": [
    "### Stack의 메소드\n",
    "- push: 스택 top에 데이터 삽입\n",
    "- pop: 스택 top에 데이터 추출하여 리턴(1. 스택에서 가장 위쪽의 값 제거, 2. 제거한 값 리턴)\n",
    "- peek: 스택 top의 데이터 조회(데이터를 삭제 x)\n",
    "- empty: 스택이 비어있는지 확인\n",
    "- size: 스택의 크기(데이터의 개수 확인)"
   ]
  },
  {
   "cell_type": "markdown",
   "id": "f7edbb68",
   "metadata": {},
   "source": [
    "###  스택 구현 1, list 사용"
   ]
  },
  {
   "cell_type": "code",
   "execution_count": 6,
   "id": "172155e9",
   "metadata": {
    "scrolled": true
   },
   "outputs": [
    {
     "name": "stdout",
     "output_type": "stream",
     "text": [
      "[1, 1000, -123]\n",
      "-123\n",
      "[1, 1000]\n",
      "1000\n",
      "False\n",
      "False\n",
      "2\n"
     ]
    }
   ],
   "source": [
    "stack = []\n",
    "\n",
    "# push\n",
    "stack.append(1)\n",
    "stack.append(1000)\n",
    "stack.append(-123)\n",
    "print(stack)\n",
    "\n",
    "# pop\n",
    "x = stack.pop()\n",
    "print(x)\n",
    "print(stack)\n",
    "\n",
    "# peek\n",
    "print(stack[-1])\n",
    "\n",
    "# empty -> isEmpty: 데이터가 없을 때 True, 있을 때 False\n",
    "print(len(stack) == 0)\n",
    "print(not stack)\n",
    "\n",
    "# size\n",
    "print(len(stack))"
   ]
  },
  {
   "cell_type": "markdown",
   "id": "8a76ac45",
   "metadata": {},
   "source": [
    "### 스택 구현 2, Node 사용"
   ]
  },
  {
   "cell_type": "code",
   "execution_count": 1,
   "id": "f5e01f91",
   "metadata": {},
   "outputs": [],
   "source": [
    "class Node:\n",
    "    def __init__(self, value, pointer = None):\n",
    "        self.value = value\n",
    "        self.pointer = pointer"
   ]
  },
  {
   "cell_type": "code",
   "execution_count": 20,
   "id": "1382589f",
   "metadata": {},
   "outputs": [],
   "source": [
    "class Stack:\n",
    "    def __init__(self):\n",
    "        self.top = None # 스택의 맨 위\n",
    "        self.size = 0 # 스택의 데이터 개수\n",
    "    \n",
    "    def push(self, value):\n",
    "        node = Node(value, self.top) # 새로운 노드 생성\n",
    "        self.top = node # top의 위치 바꿈\n",
    "        self.size += 1\n",
    "        \n",
    "    # 스택이 비어있는지 확인해서 비어있으면 True 리턴\n",
    "    def isEmpty(self):\n",
    "        return self.size == 0 # self.top == None, bool(self.top), ...\n",
    "    \n",
    "    \n",
    "    # 데이터 삭제 후 리턴\n",
    "    def pop(self):\n",
    "        # 데이터가 없는 경우 None을 리턴, 데이터가 있는 경우 노드의 값을 리턴\n",
    "        if self.isEmpty():\n",
    "            return None\n",
    "        node = self.top\n",
    "        self.top = self.top.pointer\n",
    "        self.size -= 1\n",
    "        return node\n",
    "    \n",
    "    # top의 데이터 리턴\n",
    "    def peek(self):\n",
    "        return self.top\n",
    "    \n",
    "    # 스택의 길이 리턴\n",
    "    def get_size(self):\n",
    "        return self.size\n",
    "    \n",
    "    \n",
    "    def print_stack(self):\n",
    "        node = self.top\n",
    "        while node: # 끝에 다다를 때 까지 node를 반복\n",
    "            print(node.value, end = \" -> \")\n",
    "            node = node.pointer\n",
    "        print(\"None\")\n",
    "        \n",
    "    def make_empty(self):\n",
    "        # 스택 초기화하는 코드\n",
    "        # 1번\n",
    "        # self.top = None\n",
    "        # self.size = 0\n",
    "        \n",
    "        # 2번\n",
    "        while self.pop():\n",
    "            pass"
   ]
  },
  {
   "cell_type": "code",
   "execution_count": 23,
   "id": "06962f11",
   "metadata": {},
   "outputs": [
    {
     "name": "stdout",
     "output_type": "stream",
     "text": [
      "-123 -> 100 -> 1 -> None\n",
      "False\n",
      "-123\n",
      "100 -> 1 -> None\n",
      "100\n",
      "2\n",
      "True\n",
      "0\n",
      "None\n"
     ]
    }
   ],
   "source": [
    "stack = Stack()\n",
    "stack.push(1)\n",
    "stack.push(100)\n",
    "stack.push(-123)\n",
    "stack.print_stack()\n",
    "\n",
    "print(stack.isEmpty())\n",
    "\n",
    "node = stack.pop()\n",
    "print(node.value)\n",
    "stack.print_stack()\n",
    "\n",
    "print(stack.peek().value)\n",
    "print(stack.get_size())\n",
    "\n",
    "stack.make_empty()\n",
    "print(stack.isEmpty())\n",
    "print(stack.get_size())\n",
    "stack.print_stack()"
   ]
  },
  {
   "cell_type": "code",
   "execution_count": null,
   "id": "239a4e08",
   "metadata": {},
   "outputs": [],
   "source": []
  },
  {
   "cell_type": "code",
   "execution_count": null,
   "id": "f45f1df1",
   "metadata": {},
   "outputs": [],
   "source": []
  }
 ],
 "metadata": {
  "kernelspec": {
   "display_name": "Python 3 (ipykernel)",
   "language": "python",
   "name": "python3"
  },
  "language_info": {
   "codemirror_mode": {
    "name": "ipython",
    "version": 3
   },
   "file_extension": ".py",
   "mimetype": "text/x-python",
   "name": "python",
   "nbconvert_exporter": "python",
   "pygments_lexer": "ipython3",
   "version": "3.9.13"
  }
 },
 "nbformat": 4,
 "nbformat_minor": 5
}
