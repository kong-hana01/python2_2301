{
 "cells": [
  {
   "cell_type": "code",
   "execution_count": 1,
   "id": "60c12c3f",
   "metadata": {
    "collapsed": true
   },
   "outputs": [
    {
     "name": "stdout",
     "output_type": "stream",
     "text": [
      "Requirement already satisfied: selenium in c:\\programdata\\anoconda\\lib\\site-packages (4.7.2)\n",
      "Requirement already satisfied: trio~=0.17 in c:\\programdata\\anoconda\\lib\\site-packages (from selenium) (0.22.0)\n",
      "Requirement already satisfied: certifi>=2021.10.8 in c:\\programdata\\anoconda\\lib\\site-packages (from selenium) (2022.9.14)\n",
      "Requirement already satisfied: trio-websocket~=0.9 in c:\\programdata\\anoconda\\lib\\site-packages (from selenium) (0.9.2)\n",
      "Requirement already satisfied: urllib3[socks]~=1.26 in c:\\programdata\\anoconda\\lib\\site-packages (from selenium) (1.26.11)\n",
      "Requirement already satisfied: attrs>=19.2.0 in c:\\programdata\\anoconda\\lib\\site-packages (from trio~=0.17->selenium) (21.4.0)\n",
      "Requirement already satisfied: async-generator>=1.9 in c:\\programdata\\anoconda\\lib\\site-packages (from trio~=0.17->selenium) (1.10)\n",
      "Requirement already satisfied: exceptiongroup>=1.0.0rc9 in c:\\programdata\\anoconda\\lib\\site-packages (from trio~=0.17->selenium) (1.1.0)\n",
      "Requirement already satisfied: sortedcontainers in c:\\programdata\\anoconda\\lib\\site-packages (from trio~=0.17->selenium) (2.4.0)\n",
      "Requirement already satisfied: idna in c:\\programdata\\anoconda\\lib\\site-packages (from trio~=0.17->selenium) (3.3)\n",
      "Requirement already satisfied: outcome in c:\\programdata\\anoconda\\lib\\site-packages (from trio~=0.17->selenium) (1.2.0)\n",
      "Requirement already satisfied: cffi>=1.14 in c:\\programdata\\anoconda\\lib\\site-packages (from trio~=0.17->selenium) (1.15.1)\n",
      "Requirement already satisfied: sniffio in c:\\programdata\\anoconda\\lib\\site-packages (from trio~=0.17->selenium) (1.2.0)\n",
      "Requirement already satisfied: wsproto>=0.14 in c:\\programdata\\anoconda\\lib\\site-packages (from trio-websocket~=0.9->selenium) (1.2.0)\n",
      "Requirement already satisfied: PySocks!=1.5.7,<2.0,>=1.5.6 in c:\\programdata\\anoconda\\lib\\site-packages (from urllib3[socks]~=1.26->selenium) (1.7.1)\n",
      "Requirement already satisfied: pycparser in c:\\programdata\\anoconda\\lib\\site-packages (from cffi>=1.14->trio~=0.17->selenium) (2.21)\n",
      "Requirement already satisfied: h11<1,>=0.9.0 in c:\\programdata\\anoconda\\lib\\site-packages (from wsproto>=0.14->trio-websocket~=0.9->selenium) (0.14.0)\n"
     ]
    }
   ],
   "source": [
    "!pip install selenium"
   ]
  },
  {
   "cell_type": "code",
   "execution_count": 7,
   "id": "0c36fe7c",
   "metadata": {},
   "outputs": [],
   "source": [
    "import selenium, time\n",
    "from selenium import webdriver\n",
    "url = \"https://www.naver.com/\"\n",
    "driver = webdriver.Chrome(executable_path = 'chromedriver') # 크롬 브라우저 실행\n",
    "driver.get(url=url) # url 주소로 get 요청"
   ]
  },
  {
   "cell_type": "code",
   "execution_count": 8,
   "id": "16c98c64",
   "metadata": {},
   "outputs": [],
   "source": [
    "driver.close() # 드라이버(브라우저) 닫기"
   ]
  },
  {
   "cell_type": "markdown",
   "id": "bd82927b",
   "metadata": {},
   "source": [
    "### Selenium을 통해 검색하기\n",
    "- find_element(id): id 값으로 엘리먼트를 지정합니다.\n",
    "- find_element(xpath): xpath로 엘리먼트를 지정합니다.\n",
    "- send_keys(KEY): 지정한 엘리먼트에 KEY를 전달합니디.\n",
    "- click(): 지정한 엘리먼트를 클릭합니다."
   ]
  },
  {
   "cell_type": "code",
   "execution_count": 23,
   "id": "a8442ea1",
   "metadata": {},
   "outputs": [],
   "source": [
    "url = \"https://www.naver.com/\"\n",
    "driver = webdriver.Chrome(executable_path = 'chromedriver') # 크롬 브라우저 실행\n",
    "driver.get(url=url) # url 주소로 get 요청"
   ]
  },
  {
   "cell_type": "code",
   "execution_count": 24,
   "id": "74cf5195",
   "metadata": {},
   "outputs": [],
   "source": [
    "time.sleep(2)\n",
    "driver.find_element(\"id\", \"query\").send_keys(\"파이썬\")"
   ]
  },
  {
   "cell_type": "code",
   "execution_count": 25,
   "id": "35510968",
   "metadata": {},
   "outputs": [],
   "source": [
    "time.sleep(2)\n",
    "driver.find_element(\"id\", \"search_btn\").click()"
   ]
  },
  {
   "cell_type": "code",
   "execution_count": 26,
   "id": "249f9bae",
   "metadata": {},
   "outputs": [],
   "source": [
    "time.sleep(2)\n",
    "driver.find_element(\"xpath\", '//*[@id=\"lnb\"]/div[1]/div/ul/li[4]/a').click()"
   ]
  },
  {
   "cell_type": "code",
   "execution_count": 27,
   "id": "94c1f62d",
   "metadata": {
    "scrolled": true
   },
   "outputs": [],
   "source": [
    "time.sleep(2)\n",
    "driver.find_element(\"xpath\", '//*[@id=\"snb\"]/div[1]/div/div[1]/a[2]').click()"
   ]
  },
  {
   "cell_type": "code",
   "execution_count": 28,
   "id": "4fb432d9",
   "metadata": {
    "scrolled": false
   },
   "outputs": [
    {
     "name": "stdout",
     "output_type": "stream",
     "text": [
      "[{'post_title': '파이썬 자격증 취득 수업 내용 정리!', 'blog_name': '반짝반짝 빛나는'}, {'post_title': '파이썬 강의 취업 성공의 필수 학습전략', 'blog_name': '취미부자 짠테커 집사'}, {'post_title': '파이썬 기초 : 이해도의 핵심은 과연 수학인가?', 'blog_name': '주들의 그리 대단하진 않지만 굉장한 이야기'}, {'post_title': '개발자 협업 위한 Git, Github \"파이썬 코드로 배우는 Git...', 'blog_name': 'KEBI BLOG'}, {'post_title': '파이썬으로 GUI 쉽게 만들 수 있는 툴 파이큐티 PYQT 특징...', 'blog_name': '(주)신성씨앤에스'}, {'post_title': '파이썬학원 진로', 'blog_name': '난 할 수 있다'}, {'post_title': 'PyCharm으로 python 첫 도전! 파이썬 기본 사용법', 'blog_name': 'stay with me'}, {'post_title': '프로그래밍학원 탄탄한 파이썬 기초 수업 과정', 'blog_name': '모순 덩어리'}, {'post_title': '코딩학원 빅데이터 기초부터 배우기(파이썬 사용)', 'blog_name': '후야와 율군이 있어 행복한 세상'}, {'post_title': '파이썬 학원 비전공자 배우는 과정!', 'blog_name': 'hAsiCa:)'}, {'post_title': '파이썬개발자, 취업 시 연봉을 높일 수 있는 가이드라인은?', 'blog_name': '비비디 바비디 부'}, {'post_title': '[책추천] Hello IT 파이썬을 제대로 활용해 보려고 해', 'blog_name': '원탑프로'}, {'post_title': '파이썬 코딩 자격증 Class - Cos Pro 자격증 2023년 시험 일정', 'blog_name': '로사쌤의 컴교실'}, {'post_title': '파이썬 국비지원 교육이 비전공자에게 적합할까?', 'blog_name': '인테리어'}, {'post_title': '파이썬 GUI프로그래밍 Tkinter 버튼과 포토이미지', 'blog_name': '전주코딩 교육 전문 스마트라이프연구소 & 학원'}, {'post_title': '파이썬 개발자 : 수행 업무 및 구인 수요 분석', 'blog_name': '주들의 그리 대단하진 않지만 굉장한 이야기'}, {'post_title': '[부산파이썬학원] - 빅데이터의 시작', 'blog_name': 'IT 정보통'}, {'post_title': '파이썬 연산자 : 비교 연산자와 논리 연산자 활용 예제', 'blog_name': '코딩샐러드'}, {'post_title': '서울파이썬학원 :: 파이썬공부를 위한 파이썬학원추천(종로,강남)', 'blog_name': '볼빨간 유부♡(,,>᎑<,,)♡'}, {'post_title': '[파이썬 마스터 1급]합격!!! (feat. 시험 접수부터 시험장...', 'blog_name': '그냥그냥님의 블로그'}, {'post_title': '컴퓨터교육 파이썬,C언어 코딩전문학원 IT학과진학까지', 'blog_name': '미래 진로 준비'}, {'post_title': '파이썬 반복문 : for문 설명', 'blog_name': '하나컴퓨터학원'}, {'post_title': '업무자동화 프로그래밍 파이썬 코딩 강의 ITUP', 'blog_name': 'itnamu의 포토로그'}, {'post_title': '파이썬자격증 종류와 취업시 활용방안', 'blog_name': '비비디 바비디 부'}, {'post_title': '파이썬 코드로 배우는 Git & Github 영진닷컴', 'blog_name': '원탑프로'}, {'post_title': '파이썬 게임 프로그래밍 서적 5종 리뷰', 'blog_name': '내만게만동인'}, {'post_title': '도서 리뷰 :: 혼자 공부하는 데이터 분석 with 파이썬', 'blog_name': 'WOONG-Z'}, {'post_title': '파이썬 독학 : 첫 시작은 Web 개발을 목표로', 'blog_name': '주들의 그리 대단하진 않지만 굉장한 이야기'}, {'post_title': '전주코딩 - 2023년 1월 겨울방학 파이썬 특강을 진행합니다.', 'blog_name': '전주코딩 교육 전문 스마트라이프연구소 & 학원'}, {'post_title': '센텀파이썬학원 - 코딩의 입문!', 'blog_name': 'IT 정보통'}]\n"
     ]
    }
   ],
   "source": [
    "from bs4 import BeautifulSoup\n",
    "\n",
    "html = driver.page_source\n",
    "data = BeautifulSoup(html, \"html.parser\")\n",
    "title = []\n",
    "for element in data.select(\".api_txt_lines.total_tit\"):\n",
    "    title.append(element.text.strip())\n",
    "blog = []\n",
    "for element in data.select(\".sub_txt.sub_name\"):\n",
    "    blog.append(element.text.strip())\n",
    "result = []\n",
    "for i in range(len(title)):\n",
    "    result.append({\"post_title\": title[i], \"blog_name\": blog[i]})\n",
    "print(result)"
   ]
  },
  {
   "cell_type": "markdown",
   "id": "303d0f86",
   "metadata": {},
   "source": [
    "### 대기 명령\n",
    "아직 로드되지 않은 엘리먼트를 사용해 어떤 명령을 내리면 해당 엘리먼트가 없다고 에러가 발생할 수 있습니다.\n",
    "1. time 모듈 사용: time.sleep(sec)을 사용해 sec초만큼 대기합니다.\n",
    "2. selenium 메서드 사용\n",
    "    \n",
    "    1) Implicitly Wait: driver.implicitly_wait(sec)을 사용해 필요한 웹사이트가 로드될 때까지 최대 sec초만큼 대기합니다.\n",
    "    \n",
    "    2) Explicitly Wait: WebDriverWait(driver, sec)을 사용해 필요한 엘리먼트가 로드될 때까지 최대 sec초만큼 대기합니다."
   ]
  },
  {
   "cell_type": "code",
   "execution_count": 35,
   "id": "63c64693",
   "metadata": {},
   "outputs": [],
   "source": [
    "# Implicitly Wait\n",
    "driver = webdriver.Chrome(executable_path = \"chromedriver\")\n",
    "driver.get(url=url)\n",
    "driver.implicitly_wait(5)\n",
    "driver.close()"
   ]
  },
  {
   "cell_type": "code",
   "execution_count": 38,
   "id": "99b75d55",
   "metadata": {},
   "outputs": [],
   "source": [
    "# Explicitly Wait\n",
    "from selenium.webdriver.common.by import By\n",
    "from selenium.webdriver.support.ui import WebDriverWait\n",
    "from selenium.webdriver.support import expected_conditions as EC\n",
    "driver = webdriver.Chrome(executable_path = \"chromedriver\")\n",
    "driver.get(url=url)\n",
    "element = WebDriverWait(driver, 10).until(EC.presence_of_element_located((By.ID, \"query\")))\n",
    "driver.close()"
   ]
  }
 ],
 "metadata": {
  "kernelspec": {
   "display_name": "Python 3 (ipykernel)",
   "language": "python",
   "name": "python3"
  },
  "language_info": {
   "codemirror_mode": {
    "name": "ipython",
    "version": 3
   },
   "file_extension": ".py",
   "mimetype": "text/x-python",
   "name": "python",
   "nbconvert_exporter": "python",
   "pygments_lexer": "ipython3",
   "version": "3.9.13"
  }
 },
 "nbformat": 4,
 "nbformat_minor": 5
}
