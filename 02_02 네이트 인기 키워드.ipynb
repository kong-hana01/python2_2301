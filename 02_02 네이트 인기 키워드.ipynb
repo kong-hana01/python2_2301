{
 "cells": [
  {
   "cell_type": "markdown",
   "id": "babc8de3",
   "metadata": {},
   "source": [
    "## 네이트 인기 키워드\n",
    "- 진행 순서\n",
    "1. 적절한 url에 request 요청을 보낸다.(request 모듈 사용)\n",
    "2. html 문서에서 해당 값들의 css selector를 확인한다.\n",
    "3. 키워드를 파싱한다.\n",
    "4. url을 파싱한다.\n",
    "5. 키워드와 url을 함께 저장한다. -> 자유롭게 저장(리스트, 딕셔너리 등등)"
   ]
  },
  {
   "cell_type": "code",
   "execution_count": 2,
   "id": "a3dc4ed1",
   "metadata": {},
   "outputs": [
    {
     "name": "stdout",
     "output_type": "stream",
     "text": [
      "<Response [200]>\n"
     ]
    }
   ],
   "source": [
    "# 1번\n",
    "import requests\n",
    "from bs4 import BeautifulSoup\n",
    "url = \"https://www.nate.com/\"\n",
    "response = requests.get(url)\n",
    "print(response)"
   ]
  },
  {
   "cell_type": "code",
   "execution_count": 3,
   "id": "ce2f895a",
   "metadata": {},
   "outputs": [],
   "source": [
    "# 2번\n",
    "# .search_keyword a"
   ]
  },
  {
   "cell_type": "code",
   "execution_count": 4,
   "id": "eb3a1921",
   "metadata": {},
   "outputs": [
    {
     "name": "stdout",
     "output_type": "stream",
     "text": [
      "[<a href=\"https://search.daum.net/nate?w=tot&amp;q=%EC%9E%AD%EC%8A%A8+%EC%BD%94%EC%B2%BC%EB%9D%BC+%EC%9E%85%EC%84%B1%ED%95%B4\" id=\"onclick_semantic01\" onmousedown=\"setNcCode('NSC11|NSC21|NSC31',iSvcSeq-1);\">잭슨 코첼라</a>, <a href=\"https://search.daum.net/nate?w=tot&amp;DA=NAD&amp;q=%EC%9A%94%EB%A6%AC%ED%95%99%EC%9B%90\" id=\"onclick_semantic02\" onmousedown=\"setNcCode('NSC12|NSC22|NSC32',iSvcSeq-1);\">한식요리사자격증</a>, <a href=\"https://search.daum.net/nate?w=tot&amp;DA=NAD&amp;q=%EC%82%AC%EB%AC%BC%ED%95%A8\" id=\"onclick_semantic03\" onmousedown=\"setNcCode('NSC13|NSC23|NSC33',iSvcSeq-1);\">사물함</a>, <a href=\"https://search.daum.net/nate?w=tot&amp;q=%EC%A7%80%EB%AF%BC+%EC%86%94%EB%A1%9C+%EB%8D%B0%EB%B7%94%EC%84%A4\" id=\"onclick_semantic04\" onmousedown=\"setNcCode('NSC14|NSC24|NSC34',iSvcSeq-1);\">지민 솔로 데뷔설</a>, <a href=\"https://search.daum.net/nate?w=tot&amp;q=%EA%B9%80%EC%A7%84%EC%88%98+%EB%8F%99%EC%83%81%EC%9D%B4%EB%AA%BD2\" id=\"onclick_semantic05\" onmousedown=\"setNcCode('NSC15|NSC25|NSC35',iSvcSeq-1);\">김진수 동상이몽2</a>]\n"
     ]
    }
   ],
   "source": [
    "# 3번\n",
    "data = BeautifulSoup(response.text, \"html.parser\")\n",
    "print(data.select(\".search_keyword a\"))"
   ]
  },
  {
   "cell_type": "code",
   "execution_count": 6,
   "id": "1b22f9c0",
   "metadata": {},
   "outputs": [
    {
     "name": "stdout",
     "output_type": "stream",
     "text": [
      "잭슨 코첼라\n",
      "한식요리사자격증\n",
      "사물함\n",
      "지민 솔로 데뷔설\n",
      "김진수 동상이몽2\n"
     ]
    }
   ],
   "source": [
    "for element in data.select(\".search_keyword a\"):\n",
    "    print(element.text.strip())"
   ]
  },
  {
   "cell_type": "code",
   "execution_count": 8,
   "id": "fcffef75",
   "metadata": {},
   "outputs": [
    {
     "name": "stdout",
     "output_type": "stream",
     "text": [
      "https://search.daum.net/nate?w=tot&q=%EC%9E%AD%EC%8A%A8+%EC%BD%94%EC%B2%BC%EB%9D%BC+%EC%9E%85%EC%84%B1%ED%95%B4\n",
      "https://search.daum.net/nate?w=tot&DA=NAD&q=%EC%9A%94%EB%A6%AC%ED%95%99%EC%9B%90\n",
      "https://search.daum.net/nate?w=tot&DA=NAD&q=%EC%82%AC%EB%AC%BC%ED%95%A8\n",
      "https://search.daum.net/nate?w=tot&q=%EC%A7%80%EB%AF%BC+%EC%86%94%EB%A1%9C+%EB%8D%B0%EB%B7%94%EC%84%A4\n",
      "https://search.daum.net/nate?w=tot&q=%EA%B9%80%EC%A7%84%EC%88%98+%EB%8F%99%EC%83%81%EC%9D%B4%EB%AA%BD2\n"
     ]
    }
   ],
   "source": [
    "# 4번\n",
    "for element in data.select(\".search_keyword a\"):\n",
    "    print(element.attrs['href'])"
   ]
  },
  {
   "cell_type": "code",
   "execution_count": 10,
   "id": "6f1a1944",
   "metadata": {
    "scrolled": true
   },
   "outputs": [
    {
     "name": "stdout",
     "output_type": "stream",
     "text": [
      "[{'키워드': '잭슨 코첼라', 'url': 'https://search.daum.net/nate?w=tot&q=%EC%9E%AD%EC%8A%A8+%EC%BD%94%EC%B2%BC%EB%9D%BC+%EC%9E%85%EC%84%B1%ED%95%B4'}, {'키워드': '한식요리사자격증', 'url': 'https://search.daum.net/nate?w=tot&DA=NAD&q=%EC%9A%94%EB%A6%AC%ED%95%99%EC%9B%90'}, {'키워드': '사물함', 'url': 'https://search.daum.net/nate?w=tot&DA=NAD&q=%EC%82%AC%EB%AC%BC%ED%95%A8'}, {'키워드': '지민 솔로 데뷔설', 'url': 'https://search.daum.net/nate?w=tot&q=%EC%A7%80%EB%AF%BC+%EC%86%94%EB%A1%9C+%EB%8D%B0%EB%B7%94%EC%84%A4'}, {'키워드': '김진수 동상이몽2', 'url': 'https://search.daum.net/nate?w=tot&q=%EA%B9%80%EC%A7%84%EC%88%98+%EB%8F%99%EC%83%81%EC%9D%B4%EB%AA%BD2'}]\n"
     ]
    }
   ],
   "source": [
    "# 5번\n",
    "result = []\n",
    "for element in data.select(\".search_keyword a\"):\n",
    "    temp = {}\n",
    "    temp['키워드'] = element.text.strip()\n",
    "    temp['url'] = element.attrs['href']\n",
    "    result.append(temp)\n",
    "print(result)"
   ]
  },
  {
   "cell_type": "markdown",
   "id": "b732eeee",
   "metadata": {},
   "source": [
    "## 완성 코드"
   ]
  },
  {
   "cell_type": "code",
   "execution_count": 11,
   "id": "4bb968de",
   "metadata": {},
   "outputs": [
    {
     "name": "stdout",
     "output_type": "stream",
     "text": [
      "[{'키워드': '김태우 합류', 'url': 'https://search.daum.net/nate?w=tot&q=%EA%B9%80%ED%83%9C%EC%9A%B0+%EB%AF%B8%EC%94%BD+%ED%95%A9%EB%A5%98%ED%95%B4'}, {'키워드': '국비지원교육', 'url': 'https://search.daum.net/nate?w=tot&DA=NAD&q=%EA%B5%AD%EB%B9%84%EC%A7%80%EC%9B%90%ED%95%99%EC%9B%90'}, {'키워드': '사무용책상', 'url': 'https://search.daum.net/nate?w=tot&DA=NAD&q=%EC%82%AC%EB%AC%B4%EC%9A%A9%EC%B1%85%EC%83%81'}, {'키워드': '이연희 코로나 확진', 'url': 'https://search.daum.net/nate?w=tot&q=%EC%9D%B4%EC%97%B0%ED%9D%AC+%EC%BD%94%EB%A1%9C%EB%82%98+%ED%99%95%EC%A7%84%EB%8F%BC'}, {'키워드': '박지훈 출연 검토', 'url': 'https://search.daum.net/nate?w=tot&q=%EB%B0%95%EC%A7%80%ED%9B%88+%ED%9B%84%EB%A0%88%EC%9E%90%EC%8B%9D+%EC%B6%9C%EC%97%B0+%EA%B2%80%ED%86%A0'}]\n"
     ]
    }
   ],
   "source": [
    "import requests\n",
    "from bs4 import BeautifulSoup\n",
    "url = \"https://www.nate.com/\"\n",
    "response = requests.get(url)\n",
    "data = BeautifulSoup(response.text, \"html.parser\")\n",
    "result = []\n",
    "for element in data.select(\".search_keyword a\"):\n",
    "    temp = {}\n",
    "    temp['키워드'] = element.text.strip()\n",
    "    temp['url'] = element.attrs['href']\n",
    "    result.append(temp)\n",
    "print(result)"
   ]
  }
 ],
 "metadata": {
  "kernelspec": {
   "display_name": "Python 3 (ipykernel)",
   "language": "python",
   "name": "python3"
  },
  "language_info": {
   "codemirror_mode": {
    "name": "ipython",
    "version": 3
   },
   "file_extension": ".py",
   "mimetype": "text/x-python",
   "name": "python",
   "nbconvert_exporter": "python",
   "pygments_lexer": "ipython3",
   "version": "3.9.13"
  }
 },
 "nbformat": 4,
 "nbformat_minor": 5
}
