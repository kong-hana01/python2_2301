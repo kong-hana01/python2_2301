{
 "cells": [
  {
   "cell_type": "markdown",
   "id": "c65911a5",
   "metadata": {},
   "source": [
    "## BeautifulSoup\n",
    "##### 정적인 사이트의 웹 크롤링을 할 때 사용하는 라이브러리입니다.\n",
    "가장 간단한 형태의 페이지를 불러올 때(파싱) 사용합니다.<br>\n",
    "해당 URL로 response를 받는 텍스트를 크롤링하는 것입니다.<br>\n",
    "HTML 문서가 크롤링 대상입니다."
   ]
  },
  {
   "cell_type": "code",
   "execution_count": 3,
   "id": "3dcd216b",
   "metadata": {},
   "outputs": [],
   "source": [
    "# HTML 파일 읽어오기\n",
    "fp = open(\"data/sample.HTML\", \"r\", encoding = 'utf-8')\n",
    "html = fp.read()\n",
    "fp.close()"
   ]
  },
  {
   "cell_type": "code",
   "execution_count": 4,
   "id": "7d11d5f6",
   "metadata": {
    "collapsed": true
   },
   "outputs": [
    {
     "name": "stdout",
     "output_type": "stream",
     "text": [
      "<!DOCTYPE doctype html>\n",
      "\n",
      "<html lang=\"ko\">\n",
      "<head>\n",
      "    <meta charset=\"utf-8\"/>\n",
      "    <style>\n",
      "        h1 { color: red; }\n",
      "        p {color: green; }\n",
      "        /* ul li {color: blue; } */\n",
      "\n",
      "        /* class  */\n",
      "        .animal {color: blue; }\n",
      "        .fruit {color: orange; }\n",
      "\n",
      "        /* id  */\n",
      "        #cat {color:brown;}\n",
      "        \n",
      "        table, th, td {\n",
      "            border : 1px solid black;\n",
      "            border-collapse : collapse;\n",
      "        }\n",
      "    </style>\n",
      "</head>\n",
      "<body>\n",
      "    <h1>header</h1>\n",
      "    <p>This is a paragraph</p>\n",
      "    <div>이것은 <br/> div 입니다</div>\n",
      "    <ul>\n",
      "        <li class=\"animal\">dog</li>\n",
      "        <li class=\"animal\" id=\"cat\">cat</li>\n",
      "        <li class=\"animal\">frog</li>\n",
      "        <li class=\"animal\">this</li>\n",
      "    </ul>\n",
      "    <ul>\n",
      "        <li class=\"fruit\">apple  </li>\n",
      "        <li class=\"fruit\">ba<b>nana</b></li>\n",
      "    </ul>\n",
      "    <ol>\n",
      "        <li><a href=\"https://www.naver.com\" title=\"최고포탈\">네이버</a></li>\n",
      "        <li><a href=\"https://www.daum.net\">daum</a></li>\n",
      "        <li class=\"animal\">fish</li>\n",
      "    </ol>\n",
      "    <table id=\"books\">\n",
      "        <thead>\n",
      "            <tr>\n",
      "            <th>제목</th>\n",
      "            <th>가격</th>\n",
      "            </tr>   \n",
      "        </thead>\n",
      "        <tbody>\n",
      "            <tr>\n",
      "                <td>1.이것이 파이썬이다</td>\n",
      "                <td><b>[도서]</b> 19,200원</td>\n",
      "            </tr>\n",
      "            <tr>\n",
      "                <td>2.저것도 파이썬이다</td>\n",
      "                <td><b>[할인]</b> 12,800원</td>\n",
      "            </tr>\n",
      "            <tr>\n",
      "                <td>3.그래도 파이썬인가?</td>\n",
      "                <td><b>[중고]</b> 6,500원</td>\n",
      "            </tr>\n",
      "        </tbody>\n",
      "    </table>\n",
      "</body>\n",
      "</html>\n"
     ]
    }
   ],
   "source": [
    "print(html)"
   ]
  },
  {
   "cell_type": "code",
   "execution_count": 8,
   "id": "852ccf51",
   "metadata": {},
   "outputs": [],
   "source": [
    "from bs4 import BeautifulSoup\n",
    "# html, xml 등의 데이터를 파싱할 수 있다.\n",
    "# 파싱은 주어진 데이터 안에서 내가 원하는 데이터를 추출하는 것\n",
    "data = BeautifulSoup(html, \"html.parser\")"
   ]
  },
  {
   "cell_type": "code",
   "execution_count": 10,
   "id": "321ae180",
   "metadata": {
    "collapsed": true
   },
   "outputs": [
    {
     "name": "stdout",
     "output_type": "stream",
     "text": [
      "<class 'bs4.BeautifulSoup'>\n",
      "<!DOCTYPE doctype html>\n",
      "\n",
      "<html lang=\"ko\">\n",
      "<head>\n",
      "<meta charset=\"utf-8\"/>\n",
      "<style>\n",
      "        h1 { color: red; }\n",
      "        p {color: green; }\n",
      "        /* ul li {color: blue; } */\n",
      "\n",
      "        /* class  */\n",
      "        .animal {color: blue; }\n",
      "        .fruit {color: orange; }\n",
      "\n",
      "        /* id  */\n",
      "        #cat {color:brown;}\n",
      "        \n",
      "        table, th, td {\n",
      "            border : 1px solid black;\n",
      "            border-collapse : collapse;\n",
      "        }\n",
      "    </style>\n",
      "</head>\n",
      "<body>\n",
      "<h1>header</h1>\n",
      "<p>This is a paragraph</p>\n",
      "<div>이것은 <br/> div 입니다</div>\n",
      "<ul>\n",
      "<li class=\"animal\">dog</li>\n",
      "<li class=\"animal\" id=\"cat\">cat</li>\n",
      "<li class=\"animal\">frog</li>\n",
      "<li class=\"animal\">this</li>\n",
      "</ul>\n",
      "<ul>\n",
      "<li class=\"fruit\">apple  </li>\n",
      "<li class=\"fruit\">ba<b>nana</b></li>\n",
      "</ul>\n",
      "<ol>\n",
      "<li><a href=\"https://www.naver.com\" title=\"최고포탈\">네이버</a></li>\n",
      "<li><a href=\"https://www.daum.net\">daum</a></li>\n",
      "<li class=\"animal\">fish</li>\n",
      "</ol>\n",
      "<table id=\"books\">\n",
      "<thead>\n",
      "<tr>\n",
      "<th>제목</th>\n",
      "<th>가격</th>\n",
      "</tr>\n",
      "</thead>\n",
      "<tbody>\n",
      "<tr>\n",
      "<td>1.이것이 파이썬이다</td>\n",
      "<td><b>[도서]</b> 19,200원</td>\n",
      "</tr>\n",
      "<tr>\n",
      "<td>2.저것도 파이썬이다</td>\n",
      "<td><b>[할인]</b> 12,800원</td>\n",
      "</tr>\n",
      "<tr>\n",
      "<td>3.그래도 파이썬인가?</td>\n",
      "<td><b>[중고]</b> 6,500원</td>\n",
      "</tr>\n",
      "</tbody>\n",
      "</table>\n",
      "</body>\n",
      "</html>\n"
     ]
    }
   ],
   "source": [
    "print(type(data))\n",
    "print(data)"
   ]
  },
  {
   "cell_type": "markdown",
   "id": "4abba5b9",
   "metadata": {},
   "source": [
    "### select(), select_one() 메서드"
   ]
  },
  {
   "cell_type": "code",
   "execution_count": 12,
   "id": "e89891d9",
   "metadata": {},
   "outputs": [
    {
     "name": "stdout",
     "output_type": "stream",
     "text": [
      "<h1>header</h1>\n"
     ]
    }
   ],
   "source": [
    "# data.select_one(CSS selector)\n",
    "# 해당 CSS selector로 select된 첫번째 element 하나를 리턴\n",
    "print(data.select_one(\"h1\")) # 태그 이름\n",
    "\n",
    "# element는 시작 태그와 컨텐츠, 끝태그의 묶음\n",
    "# CSS selector는 태그 이름, class, id으로 설정합니다."
   ]
  },
  {
   "cell_type": "code",
   "execution_count": 13,
   "id": "13096bce",
   "metadata": {},
   "outputs": [
    {
     "name": "stdout",
     "output_type": "stream",
     "text": [
      "[<li class=\"fruit\">apple  </li>, <li class=\"fruit\">ba<b>nana</b></li>]\n"
     ]
    }
   ],
   "source": [
    "print(data.select(\".fruit\")) # class"
   ]
  },
  {
   "cell_type": "code",
   "execution_count": 15,
   "id": "6d5bca15",
   "metadata": {},
   "outputs": [
    {
     "name": "stdout",
     "output_type": "stream",
     "text": [
      "<li class=\"animal\" id=\"cat\">cat</li>\n"
     ]
    }
   ],
   "source": [
    "print(data.select_one(\"#cat\"))"
   ]
  },
  {
   "cell_type": "markdown",
   "id": "378a7644",
   "metadata": {},
   "source": [
    "### text\n",
    "element 안의 text 데이터 추출"
   ]
  },
  {
   "cell_type": "code",
   "execution_count": 22,
   "id": "5f282281",
   "metadata": {},
   "outputs": [
    {
     "name": "stdout",
     "output_type": "stream",
     "text": [
      "apple\n"
     ]
    }
   ],
   "source": [
    "print(data.select(\".fruit\")[0].text.strip()) # 양쪽 공백 제거\n",
    "# data.select(\".fruit\")[0].text.rstrip() # 오른쪽 공백 제거\n",
    "# data.select(\".fruit\")[0].text.lstrip() # 왼쪽 공백 제거"
   ]
  },
  {
   "cell_type": "code",
   "execution_count": 24,
   "id": "da807b02",
   "metadata": {},
   "outputs": [
    {
     "name": "stdout",
     "output_type": "stream",
     "text": [
      "banana\n"
     ]
    }
   ],
   "source": [
    "# contents 내에 있는 태그는 제거돼서 나온다.\n",
    "print(data.select(\".fruit\")[1].text.strip())"
   ]
  },
  {
   "cell_type": "code",
   "execution_count": 27,
   "id": "89abdf2b",
   "metadata": {},
   "outputs": [
    {
     "name": "stdout",
     "output_type": "stream",
     "text": [
      "cat\n"
     ]
    }
   ],
   "source": [
    "# id\n",
    "print(data.select_one('#cat').text)"
   ]
  },
  {
   "cell_type": "code",
   "execution_count": 38,
   "id": "5f6c0762",
   "metadata": {},
   "outputs": [
    {
     "name": "stdout",
     "output_type": "stream",
     "text": [
      "['apple', 'banana']\n"
     ]
    }
   ],
   "source": [
    "# 실습 문제 1\n",
    "# beautifulSoup의 select를 사용해 [\"apple\", \"banana\"] 리스트를 만들도록 코드를 작성하시오.\n",
    "result = []\n",
    "for element in data.select(\".fruit\"):\n",
    "    result.append(element.text.strip())\n",
    "print(result)"
   ]
  },
  {
   "cell_type": "code",
   "execution_count": 39,
   "id": "cab44a32",
   "metadata": {},
   "outputs": [
    {
     "name": "stdout",
     "output_type": "stream",
     "text": [
      "['dog', 'cat', 'frog', 'this', 'fish']\n"
     ]
    }
   ],
   "source": [
    "# 실습 문제 2\n",
    "# beautifulSoup의 select를 사용해 ['dog', 'cat', \"frog\", \"this\", \"fish\"] 리스트를 만들도록 코드를 작성하시오.\n",
    "result = []\n",
    "for element in data.select(\".animal\"):\n",
    "    result.append(element.text.strip())\n",
    "print(result)"
   ]
  },
  {
   "cell_type": "code",
   "execution_count": 41,
   "id": "9d5bc141",
   "metadata": {},
   "outputs": [
    {
     "name": "stdout",
     "output_type": "stream",
     "text": [
      "['dog', 'cat', 'frog', 'this']\n"
     ]
    }
   ],
   "source": [
    "# dog, cat, frog, this 추출\n",
    "result = []\n",
    "for element in data.select(\"ul .animal\"): # ul 태그의 자식인 animal 클래스\n",
    "    result.append(element.text.strip())\n",
    "print(result)"
   ]
  },
  {
   "cell_type": "markdown",
   "id": "0ada0c65",
   "metadata": {},
   "source": [
    "### attrs\n",
    "어트리뷰트의 값 가져오기"
   ]
  },
  {
   "cell_type": "code",
   "execution_count": 42,
   "id": "56e30709",
   "metadata": {},
   "outputs": [
    {
     "name": "stdout",
     "output_type": "stream",
     "text": [
      "[<a href=\"https://www.naver.com\" title=\"최고포탈\">네이버</a>, <a href=\"https://www.daum.net\">daum</a>]\n"
     ]
    }
   ],
   "source": [
    "# href에 있는 주소값 가져오기\n",
    "items = data.select(\"a\")\n",
    "print(items)"
   ]
  },
  {
   "cell_type": "code",
   "execution_count": 44,
   "id": "49f2cdda",
   "metadata": {},
   "outputs": [
    {
     "name": "stdout",
     "output_type": "stream",
     "text": [
      "{'href': 'https://www.naver.com', 'title': '최고포탈'}\n"
     ]
    }
   ],
   "source": [
    "print(items[0].attrs) # .attrs는 딕셔너리 형태로 반환"
   ]
  },
  {
   "cell_type": "code",
   "execution_count": 45,
   "id": "2a52eaaf",
   "metadata": {},
   "outputs": [
    {
     "data": {
      "text/plain": [
       "'https://www.naver.com'"
      ]
     },
     "execution_count": 45,
     "metadata": {},
     "output_type": "execute_result"
    }
   ],
   "source": [
    "items[0].attrs[\"href\"]"
   ]
  },
  {
   "cell_type": "markdown",
   "id": "a10706f5",
   "metadata": {},
   "source": [
    "### decompose"
   ]
  },
  {
   "cell_type": "code",
   "execution_count": 50,
   "id": "043f757c",
   "metadata": {},
   "outputs": [
    {
     "name": "stdout",
     "output_type": "stream",
     "text": [
      "[<td>1.이것이 파이썬이다</td>, <td><b>[도서]</b> 19,200원</td>, <td>2.저것도 파이썬이다</td>, <td><b>[할인]</b> 12,800원</td>, <td>3.그래도 파이썬인가?</td>, <td><b>[중고]</b> 6,500원</td>]\n",
      "<b>[도서]</b>\n",
      "[<td>1.이것이 파이썬이다</td>, <td> 19,200원</td>, <td>2.저것도 파이썬이다</td>, <td><b>[할인]</b> 12,800원</td>, <td>3.그래도 파이썬인가?</td>, <td><b>[중고]</b> 6,500원</td>]\n"
     ]
    }
   ],
   "source": [
    "items = data.select(\"td\")\n",
    "print(items)\n",
    "print(items[1].select_one(\"b\"))\n",
    "items[1].select_one(\"b\").decompose()\n",
    "print(items)"
   ]
  }
 ],
 "metadata": {
  "kernelspec": {
   "display_name": "Python 3 (ipykernel)",
   "language": "python",
   "name": "python3"
  },
  "language_info": {
   "codemirror_mode": {
    "name": "ipython",
    "version": 3
   },
   "file_extension": ".py",
   "mimetype": "text/x-python",
   "name": "python",
   "nbconvert_exporter": "python",
   "pygments_lexer": "ipython3",
   "version": "3.9.13"
  }
 },
 "nbformat": 4,
 "nbformat_minor": 5
}
