{
 "cells": [
  {
   "cell_type": "markdown",
   "id": "52797ee1",
   "metadata": {},
   "source": [
    "## Class\n",
    "### node\n",
    "노드란 어떤 정보를 담고있는 하나의 단위로, 자료구조에서 개별적인 정보를 나타낼 때 사용하는 단위입니다.<br>\n",
    "노드 간에는 연결이 가능하며 이는 주로 포인터(pointer)로 연결하곤 합니다.\n",
    "\n",
    "### 포인터\n",
    "데이터가 저장되는 공간을 가리키는 변수를 의미합니다.<br>\n",
    "노드 간 연결을 포인터로 지정하여 연결해주기도 합니다.\n",
    "\n",
    "### class를 사용한 노드 만들기\n",
    "- 변수: value, pointer\n",
    "- 메서드: value 수정, value 검색, pointer 수정 등등"
   ]
  },
  {
   "cell_type": "code",
   "execution_count": 2,
   "id": "5bec6d56",
   "metadata": {},
   "outputs": [],
   "source": [
    "class Node:\n",
    "    def __init__(self, value = None, pointer = None):\n",
    "        self.value = value\n",
    "        self.pointer = pointer\n",
    "    \n",
    "    def getValue(self):\n",
    "        return self.value\n",
    "    \n",
    "    def setValue(self, value):\n",
    "        self.value = value\n",
    "\n"
   ]
  },
  {
   "cell_type": "code",
   "execution_count": 4,
   "id": "ebc774a4",
   "metadata": {},
   "outputs": [
    {
     "name": "stdout",
     "output_type": "stream",
     "text": [
      "a\n"
     ]
    }
   ],
   "source": [
    "n1 = Node('a', None)\n",
    "print(n1.getValue())"
   ]
  },
  {
   "cell_type": "code",
   "execution_count": 6,
   "id": "8160c684",
   "metadata": {},
   "outputs": [
    {
     "name": "stdout",
     "output_type": "stream",
     "text": [
      "B\n"
     ]
    }
   ],
   "source": [
    "n2 = Node()\n",
    "n2.setValue(\"B\")\n",
    "print(n2.getValue())"
   ]
  },
  {
   "cell_type": "code",
   "execution_count": 7,
   "id": "ad80b357",
   "metadata": {},
   "outputs": [
    {
     "name": "stdout",
     "output_type": "stream",
     "text": [
      "c\n"
     ]
    }
   ],
   "source": [
    "n3 = Node(\"c\", n2)\n",
    "print(n3.getValue())"
   ]
  },
  {
   "cell_type": "code",
   "execution_count": 8,
   "id": "89864387",
   "metadata": {
    "scrolled": true
   },
   "outputs": [
    {
     "name": "stdout",
     "output_type": "stream",
     "text": [
      "B\n"
     ]
    }
   ],
   "source": [
    "print(n3.pointer.getValue())"
   ]
  },
  {
   "cell_type": "code",
   "execution_count": 9,
   "id": "8f2bf00f",
   "metadata": {},
   "outputs": [
    {
     "name": "stdout",
     "output_type": "stream",
     "text": [
      "a\n"
     ]
    }
   ],
   "source": [
    "n2.pointer = n1\n",
    "print(n3.pointer.pointer.getValue())"
   ]
  },
  {
   "cell_type": "code",
   "execution_count": 10,
   "id": "2f43e94e",
   "metadata": {},
   "outputs": [
    {
     "name": "stdout",
     "output_type": "stream",
     "text": [
      "c\n"
     ]
    }
   ],
   "source": [
    "n1.pointer = n3\n",
    "print(n3.pointer.pointer.pointer.getValue())"
   ]
  }
 ],
 "metadata": {
  "kernelspec": {
   "display_name": "Python 3 (ipykernel)",
   "language": "python",
   "name": "python3"
  },
  "language_info": {
   "codemirror_mode": {
    "name": "ipython",
    "version": 3
   },
   "file_extension": ".py",
   "mimetype": "text/x-python",
   "name": "python",
   "nbconvert_exporter": "python",
   "pygments_lexer": "ipython3",
   "version": "3.9.13"
  }
 },
 "nbformat": 4,
 "nbformat_minor": 5
}
