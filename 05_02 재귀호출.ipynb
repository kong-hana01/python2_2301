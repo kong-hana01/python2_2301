{
 "cells": [
  {
   "cell_type": "markdown",
   "id": "0b035ec7",
   "metadata": {},
   "source": [
    "## 재귀 호출(recursive call)\n",
    "##### 함수가 자기 자신을 다시 호출하는 구조\n",
    "- 장점: 프로그램을 구조적으로 작성 -> 가독성이 좋아집니다.\n",
    "- 단점: 메모리 부담(오버헤드)이 발생"
   ]
  },
  {
   "cell_type": "code",
   "execution_count": 5,
   "id": "d391de45",
   "metadata": {},
   "outputs": [],
   "source": [
    "def recursive(n):\n",
    "    print(n)\n",
    "    recursive(n+1) # 함수 안에서 자기 자신을 호출\n",
    "    print(\"함수 끝~\")"
   ]
  },
  {
   "cell_type": "code",
   "execution_count": 6,
   "id": "4790f45e",
   "metadata": {},
   "outputs": [],
   "source": [
    "# recursive(1) 무한 루프와는 다릅니다."
   ]
  },
  {
   "cell_type": "markdown",
   "id": "0fa61705",
   "metadata": {},
   "source": [
    "### 재귀 함수 작성 시 주의사항\n",
    "- 종료조건을 명시해야합니다.\n",
    "- 함수의 시작 부분을 잘 고려해야합니다.\n",
    "- 메모리 부담을 줄여주기 위해 꼬리재귀를 사용하면 메모리 부담을 줄일 수 있습니다."
   ]
  },
  {
   "cell_type": "markdown",
   "id": "86266da8",
   "metadata": {},
   "source": [
    "### factorial\n",
    "- 4! = 4 x 3 x 2 x 1\n",
    "- 3! = 3 x 2 x 1\n",
    "- 1! = 1\n",
    "- 0! = 1\n",
    "\n",
    "점화식\n",
    "- n! = n x (n-1) x (n-2) x ... x 2 x 1 = n x (n-1)!"
   ]
  },
  {
   "cell_type": "code",
   "execution_count": 7,
   "id": "2c7676cf",
   "metadata": {},
   "outputs": [],
   "source": [
    "def factorial(n):\n",
    "    if n == 0: # 종료조건\n",
    "        return 1\n",
    "    return n * factorial(n-1)"
   ]
  },
  {
   "cell_type": "code",
   "execution_count": 8,
   "id": "0c654150",
   "metadata": {},
   "outputs": [
    {
     "name": "stdout",
     "output_type": "stream",
     "text": [
      "6\n"
     ]
    }
   ],
   "source": [
    "print(factorial(3))"
   ]
  },
  {
   "cell_type": "code",
   "execution_count": 10,
   "id": "22558652",
   "metadata": {},
   "outputs": [
    {
     "name": "stdout",
     "output_type": "stream",
     "text": [
      "1307674368000\n"
     ]
    }
   ],
   "source": [
    "print(factorial(15))"
   ]
  },
  {
   "cell_type": "code",
   "execution_count": null,
   "id": "52bf9ecb",
   "metadata": {},
   "outputs": [],
   "source": [
    "# 실습 문제\n",
    "# 피보나치 수열\n",
    "# 초기 조건 => 종료조건\n",
    "# fibo(0) = 0\n",
    "# fibo(1) = 1\n",
    "\n",
    "# 점화식\n",
    "# fibo(n) = fibo(n-1) + fibo(n-2)"
   ]
  },
  {
   "cell_type": "code",
   "execution_count": 11,
   "id": "7761e1d5",
   "metadata": {},
   "outputs": [],
   "source": [
    "def fibo(n):\n",
    "    # 종료 조건\n",
    "    if n == 0:\n",
    "        return 0\n",
    "    if n == 1:\n",
    "        return 1\n",
    "    # 리턴 -> 점화식\n",
    "    return fibo(n-1) + fibo(n-2)"
   ]
  },
  {
   "cell_type": "code",
   "execution_count": 21,
   "id": "766f9f6d",
   "metadata": {},
   "outputs": [
    {
     "name": "stdout",
     "output_type": "stream",
     "text": [
      "9227465\n"
     ]
    }
   ],
   "source": [
    "print(fibo(35))"
   ]
  },
  {
   "cell_type": "code",
   "execution_count": 24,
   "id": "1f3b0280",
   "metadata": {},
   "outputs": [
    {
     "name": "stdout",
     "output_type": "stream",
     "text": [
      "354224848179261915075\n"
     ]
    }
   ],
   "source": [
    "# 반복문으로 처리 시\n",
    "n = 100\n",
    "arr = [0 for _ in range(n+1)]\n",
    "arr[0] = 0\n",
    "arr[1] = 1\n",
    "for i in range(2, n+1):\n",
    "    arr[i] = arr[i-1] + arr[i-2]\n",
    "print(arr[n])"
   ]
  }
 ],
 "metadata": {
  "kernelspec": {
   "display_name": "Python 3 (ipykernel)",
   "language": "python",
   "name": "python3"
  },
  "language_info": {
   "codemirror_mode": {
    "name": "ipython",
    "version": 3
   },
   "file_extension": ".py",
   "mimetype": "text/x-python",
   "name": "python",
   "nbconvert_exporter": "python",
   "pygments_lexer": "ipython3",
   "version": "3.9.13"
  }
 },
 "nbformat": 4,
 "nbformat_minor": 5
}
